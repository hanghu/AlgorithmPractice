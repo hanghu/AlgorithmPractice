{
 "cells": [
  {
   "cell_type": "markdown",
   "metadata": {},
   "source": [
    "# Merge Sort\n",
    "\n",
    "### Problem Definition:\n",
    "* input: an array of n numbers, unsorted \n",
    "* output:  an array of same numbers, sorted in increase order\n",
    "\n",
    "### Pseudo-code for  _merge_:\n",
    "\n",
    "* input sorted array A and B with length of n/2\n",
    "* output array C with length of n\n",
    "\n",
    "```\n",
    "i = 1; j = 1;\n",
    "\n",
    "for k = 1 to n:\n",
    "    if A[i] < B[j]:\n",
    "        C[k] = A[i];\n",
    "        i++\n",
    "    else (A[i] > B[j]):\n",
    "        c[k] = B[k]\n",
    "        j++\n",
    "```\n"
   ]
  },
  {
   "cell_type": "code",
   "execution_count": 1,
   "metadata": {},
   "outputs": [],
   "source": [
    "def mergeTwoSortedArray(A,B):\n",
    "    i = 0\n",
    "    j = 0\n",
    "    C = []\n",
    "    \n",
    "    while(True):\n",
    "        if A[i] < B[j]:\n",
    "            C.append(A[i])\n",
    "            i += 1\n",
    "            if i == len(A): \n",
    "                for Bj in B[j:]: C.append(Bj)\n",
    "                break\n",
    "        else:\n",
    "            C.append(B[j])\n",
    "            j += 1\n",
    "            if j == len(B):\n",
    "                for Ai in A[i:]: C.append(Ai)\n",
    "                break\n",
    "        \n",
    "    return C"
   ]
  },
  {
   "cell_type": "code",
   "execution_count": 2,
   "metadata": {},
   "outputs": [
    {
     "data": {
      "text/plain": [
       "[1, 2, 4, 4, 5, 6, 7, 9]"
      ]
     },
     "execution_count": 2,
     "metadata": {},
     "output_type": "execute_result"
    }
   ],
   "source": [
    "mergeTwoSortedArray([1,4,6,9], [2,4,5,7])"
   ]
  },
  {
   "cell_type": "code",
   "execution_count": 3,
   "metadata": {},
   "outputs": [],
   "source": [
    "def mergeSort(A):\n",
    "    \"\"\" sort integer array a using Merge Sort \"\"\"\n",
    "    \n",
    "    if len(A) == 1:\n",
    "        sorted_A = A\n",
    "    else:\n",
    "        half_n = int(len(A)/2)\n",
    "        sorted_B = mergeSort(A[:half_n])\n",
    "        sorted_C = mergeSort(A[half_n:])\n",
    "        sorted_A = mergeTwoSortedArray(sorted_B, sorted_C)\n",
    "        \n",
    "    return sorted_A"
   ]
  },
  {
   "cell_type": "code",
   "execution_count": 4,
   "metadata": {},
   "outputs": [
    {
     "data": {
      "text/plain": [
       "[1, 2, 3, 4, 6, 28, 29, 34, 62, 76]"
      ]
     },
     "execution_count": 4,
     "metadata": {},
     "output_type": "execute_result"
    }
   ],
   "source": [
    "mergeSort([1,2,62,3,4,28,6,34,76,29])"
   ]
  },
  {
   "cell_type": "markdown",
   "metadata": {},
   "source": [
    "# Number of Inversion\n",
    "### Problem Definition\n",
    "* input: an array of unsorted n integers\n",
    "* output: number of inversion pair for this array. An inversion pair is defined as ```A[i] > A[j] when i < j ```"
   ]
  },
  {
   "cell_type": "code",
   "execution_count": 5,
   "metadata": {},
   "outputs": [],
   "source": [
    "def countSplitInversion(A,B):\n",
    "    i = 0\n",
    "    j = 0\n",
    "    numSplitInversion = 0\n",
    "    C = []\n",
    "    \n",
    "    while(True):\n",
    "        if A[i] <= B[j]:\n",
    "            C.append(A[i])\n",
    "            i += 1\n",
    "            if i == len(A): \n",
    "                for Bj in B[j:]: C.append(Bj)\n",
    "                break\n",
    "        else:\n",
    "            C.append(B[j])\n",
    "            numSplitInversion += len(A) - i\n",
    "            j += 1\n",
    "            if j == len(B):\n",
    "                for Ai in A[i:]: C.append(Ai)\n",
    "                break\n",
    "    \n",
    "    return [C, numSplitInversion]\n",
    "    "
   ]
  },
  {
   "cell_type": "code",
   "execution_count": 18,
   "metadata": {},
   "outputs": [],
   "source": [
    "def countNumOfInversion(A):\n",
    "    if len(A) == 1:\n",
    "        sorted_A = A\n",
    "        numOfInversion = 0\n",
    "    else:\n",
    "        half_n = int(len(A)/2)\n",
    "        [sorted_B, numOfInversion_B] = countNumOfInversion(A[:half_n])\n",
    "        [sorted_C, numOfInversion_C] = countNumOfInversion(A[half_n:])\n",
    "        [sorted_A, numSplitInversion] = countSplitInversion(sorted_B, sorted_C)\n",
    "#         print(numOfInversion_B, numOfInversion_C, numSplitInversion)\n",
    "        numOfInversion = numOfInversion_B + numOfInversion_C + numSplitInversion\n",
    "        \n",
    "    return [sorted_A, numOfInversion]\n",
    "    "
   ]
  },
  {
   "cell_type": "code",
   "execution_count": 19,
   "metadata": {},
   "outputs": [
    {
     "data": {
      "text/plain": [
       "9"
      ]
     },
     "execution_count": 19,
     "metadata": {},
     "output_type": "execute_result"
    }
   ],
   "source": [
    "A, numOfInversion = countNumOfInversion([1,2,62,3,4,28,6,34,76,29])\n",
    "numOfInversion"
   ]
  },
  {
   "cell_type": "code",
   "execution_count": 20,
   "metadata": {},
   "outputs": [],
   "source": [
    "nums = []\n",
    "with open('text.txt','r') as f:\n",
    "    a = f.readline()\n",
    "    while(a != ''):\n",
    "        nums.append(int(a))\n",
    "        a = f.readline()\n",
    "        "
   ]
  },
  {
   "cell_type": "code",
   "execution_count": 21,
   "metadata": {},
   "outputs": [
    {
     "data": {
      "text/plain": [
       "2407905288"
      ]
     },
     "execution_count": 21,
     "metadata": {},
     "output_type": "execute_result"
    }
   ],
   "source": [
    "A, numOfInversion = countNumOfInversion(nums)\n",
    "numOfInversion"
   ]
  },
  {
   "cell_type": "code",
   "execution_count": null,
   "metadata": {},
   "outputs": [],
   "source": []
  }
 ],
 "metadata": {
  "kernelspec": {
   "display_name": "Python 3",
   "language": "python",
   "name": "python3"
  },
  "language_info": {
   "codemirror_mode": {
    "name": "ipython",
    "version": 3
   },
   "file_extension": ".py",
   "mimetype": "text/x-python",
   "name": "python",
   "nbconvert_exporter": "python",
   "pygments_lexer": "ipython3",
   "version": "3.6.8"
  }
 },
 "nbformat": 4,
 "nbformat_minor": 2
}
