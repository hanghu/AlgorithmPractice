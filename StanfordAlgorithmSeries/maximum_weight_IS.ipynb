{
 "cells": [
  {
   "cell_type": "code",
   "execution_count": 7,
   "metadata": {},
   "outputs": [],
   "source": [
    "import numpy as np"
   ]
  },
  {
   "cell_type": "markdown",
   "metadata": {},
   "source": [
    "'mwis.txt' describes the weights of the vertices in a path graph (with the weights listed in the order in which vertices appear in the path). It has the following format:\n",
    "\n",
    "[number_of_vertices]\n",
    "\n",
    "[weight of first vertex]\n",
    "\n",
    "[weight of second vertex]\n",
    "\n",
    "...\n",
    "\n",
    "For example, the third line of the file is \"6395702,\" indicating that the weight of the second vertex of the graph is 6395702.\n",
    "\n",
    "Your task in this problem is to run the dynamic programming algorithm (and the reconstruction procedure) from lecture on this data set. The question is: of the vertices 1, 2, 3, 4, 17, 117, 517, and 997, which ones belong to the maximum-weight independent set? (By \"vertex 1\" we mean the first vertex of the graph---there is no vertex 0.) In the box below, enter a 8-bit string, where the ith bit should be 1 if the ith of these 8 vertices is in the maximum-weight independent set, and 0 otherwise. For example, if you think that the vertices 1, 4, 17, and 517 are in the maximum-weight independent set and the other four vertices are not, then you should enter the string 10011010 in the box below."
   ]
  },
  {
   "cell_type": "code",
   "execution_count": 13,
   "metadata": {},
   "outputs": [],
   "source": [
    "with open('mwis.txt','r') as f:\n",
    "    lines = f.readlines()\n",
    "    \n",
    "num = int(lines[0])\n",
    "weights = list(map(int, lines[1:]))"
   ]
  },
  {
   "cell_type": "code",
   "execution_count": 14,
   "metadata": {},
   "outputs": [],
   "source": [
    "# run maximum weight\n",
    "max_weight = np.zeros(num+1,dtype=int)\n",
    "max_weight[0] = 0\n",
    "max_weight[1] = weights[1]\n",
    "\n",
    "for i in range(2,num+1):\n",
    "    max_weight[i] = max(max_weight[i-1], weights[i-1]+max_weight[i-2])"
   ]
  },
  {
   "cell_type": "code",
   "execution_count": 15,
   "metadata": {},
   "outputs": [
    {
     "data": {
      "text/plain": [
       "(2956786648, 2952131633)"
      ]
     },
     "execution_count": 15,
     "metadata": {},
     "output_type": "execute_result"
    }
   ],
   "source": [
    "max_weight[-1],max_weight[-2]"
   ]
  },
  {
   "cell_type": "code",
   "execution_count": 16,
   "metadata": {},
   "outputs": [],
   "source": [
    "v_set = []\n",
    "\n",
    "i = num\n",
    "while i >= 1:\n",
    "    if max_weight[i-1] >= max_weight[i-2] + weights[i-1]:\n",
    "        i -= 1\n",
    "    else:\n",
    "        v_set.append(i)\n",
    "        i -= 2"
   ]
  },
  {
   "cell_type": "code",
   "execution_count": 17,
   "metadata": {},
   "outputs": [
    {
     "data": {
      "text/plain": [
       "'10100110'"
      ]
     },
     "execution_count": 17,
     "metadata": {},
     "output_type": "execute_result"
    }
   ],
   "source": [
    "ans = ''\n",
    "for i in [1, 2, 3, 4, 17, 117, 517, 997]:\n",
    "    ans += str(int(i in v_set))\n",
    "\n",
    "ans"
   ]
  },
  {
   "cell_type": "code",
   "execution_count": null,
   "metadata": {},
   "outputs": [],
   "source": []
  }
 ],
 "metadata": {
  "kernelspec": {
   "display_name": "Python 3",
   "language": "python",
   "name": "python3"
  },
  "language_info": {
   "codemirror_mode": {
    "name": "ipython",
    "version": 3
   },
   "file_extension": ".py",
   "mimetype": "text/x-python",
   "name": "python",
   "nbconvert_exporter": "python",
   "pygments_lexer": "ipython3",
   "version": "3.6.8"
  }
 },
 "nbformat": 4,
 "nbformat_minor": 2
}
