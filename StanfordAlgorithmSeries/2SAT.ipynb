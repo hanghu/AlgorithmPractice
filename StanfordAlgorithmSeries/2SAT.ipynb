{
 "cells": [
  {
   "cell_type": "code",
   "execution_count": 1,
   "metadata": {},
   "outputs": [],
   "source": [
    "import numpy as np"
   ]
  },
  {
   "cell_type": "markdown",
   "metadata": {},
   "source": [
    "# Q 2SAT Problem\n",
    "\n",
    "The file format is as follows. In each instance ('2sat_i.txt', [i=1,6]), the number of variables and the number of clauses is the same, and this number is specified on the first line of the file. Each subsequent line specifies a clause via its two literals, with a number denoting the variable and a \"-\" sign denoting logical \"not\". For example, the second line of the first data file is \"-16808 75250\", which indicates the clause ¬x16808∨x75250.\n",
    "\n",
    "Your task is to determine which of the 6 instances are satisfiable, and which are unsatisfiable. In the box below, enter a 6-bit string, where the ith bit should be 1 if the ith instance is satisfiable, and 0 otherwise. For example, if you think that the first 3 instances are satisfiable and the last 3 are not, then you should enter the string 111000 in the box below.\n",
    "\n",
    "DISCUSSION: This assignment is deliberately open-ended, and you can implement whichever 2SAT algorithm you want. For example, 2SAT reduces to computing the strongly connected components of a suitable graph (with two vertices per variable and two directed edges per clause, you should think through the details). This might be an especially attractive option for those of you who coded up an SCC algorithm in Part 2 of this specialization. Alternatively, you can use Papadimitriou's randomized local search algorithm. (The algorithm from lecture is probably too slow as stated, so you might want to make one or more simple modifications to it --- even if this means breaking the analysis given in lecture --- to ensure that it runs in a reasonable amount of time.) A third approach is via backtracking. In lecture we mentioned this approach only in passing; see Chapter 9 of the Dasgupta-Papadimitriou-Vazirani book, for example, for more details."
   ]
  },
  {
   "cell_type": "markdown",
   "metadata": {},
   "source": [
    "## 1 Reudction to a SCC problem\n",
    "\n",
    "Notes:\n",
    "1. two vertices per variable: x and ¬x\n",
    "2. two direct edges per clause, use False induciton. e.g. x1 V x2: if x1 is False -> ¬x2 is False; if x2 is False -> ¬x1 is False.\n",
    "3. unsatisfying critrion: if both xi and ¬xi are presented in a same SCC. \n",
    "\n",
    "\n"
   ]
  },
  {
   "cell_type": "code",
   "execution_count": 2,
   "metadata": {},
   "outputs": [],
   "source": [
    "from SCC import iterative_kosrajus_two_pass\n",
    "\n",
    "def exam_SCCs(SCCs, nv):\n",
    "    for scc in SCCs:\n",
    "        if len(scc) > 1:\n",
    "            scc_not = np.array(scc) - nv\n",
    "            scc_not = (scc_not < 0) * nv + abs(scc_not)\n",
    "            scc_set = set(scc)\n",
    "            for i in scc_not:\n",
    "                if i in scc_set:\n",
    "                    return False\n",
    "    return True          "
   ]
  },
  {
   "cell_type": "code",
   "execution_count": 3,
   "metadata": {},
   "outputs": [],
   "source": [
    "# build a not satisfiable example:\n",
    "# (x1 ∨ x2) ∧ (¬x1 ∨ x3) ∧ (¬x2 ∨ x4) ∧ (¬x3 ∨ x2) ∧ (¬x4 ∨ x1) ∧ (¬x3 ∨ ¬x4)   \n",
    "nv = 4\n",
    "nc = 6\n",
    "Clauses = np.array([[1,2], [-1, 3], [-2, 4], [-3, 2], [-4, 1], [-3, -4]])\n",
    "G = [ [] for i in range(2*nv+1)]\n",
    "for c in Clauses:\n",
    "    G[c[0]+nv].append(nv-(c[1]))\n",
    "    G[c[1]+nv].append(nv-(c[0]))"
   ]
  },
  {
   "cell_type": "code",
   "execution_count": 4,
   "metadata": {},
   "outputs": [
    {
     "data": {
      "text/plain": [
       "[[3, 7], [2, 8], [0], [1], [], [2, 8], [3, 7], [5], [6]]"
      ]
     },
     "execution_count": 4,
     "metadata": {},
     "output_type": "execute_result"
    }
   ],
   "source": [
    "G"
   ]
  },
  {
   "cell_type": "code",
   "execution_count": 5,
   "metadata": {},
   "outputs": [],
   "source": [
    "SCCs = iterative_kosrajus_two_pass(G)\n",
    "exam_SCCs(SCCs, nv)"
   ]
  },
  {
   "cell_type": "code",
   "execution_count": 29,
   "metadata": {},
   "outputs": [],
   "source": [
    "with open('2sat_1.txt','r') as f:\n",
    "    lines = f.readlines()\n",
    "\n",
    "nv = int(lines[0])\n",
    "Clauses = [list(map(int, c.split())) for c in lines[1:]]"
   ]
  },
  {
   "cell_type": "code",
   "execution_count": 30,
   "metadata": {},
   "outputs": [],
   "source": [
    "G = [ [] for i in range(2*nv+1)]\n",
    "for c in Clauses:\n",
    "    G[c[0]+nv].append(nv-(c[1]))\n",
    "    G[c[1]+nv].append(nv-(c[0]))"
   ]
  },
  {
   "cell_type": "code",
   "execution_count": 31,
   "metadata": {},
   "outputs": [
    {
     "data": {
      "text/plain": [
       "True"
      ]
     },
     "execution_count": 31,
     "metadata": {},
     "output_type": "execute_result"
    }
   ],
   "source": [
    "SCCs = iterative_kosrajus_two_pass(G)\n",
    "exam_SCCs(SCCs, nv)"
   ]
  },
  {
   "cell_type": "code",
   "execution_count": 40,
   "metadata": {},
   "outputs": [
    {
     "name": "stdout",
     "output_type": "stream",
     "text": [
      "1 True\n",
      "2 False\n",
      "3 True\n",
      "4 True\n",
      "5 False\n",
      "6 False\n"
     ]
    }
   ],
   "source": [
    "results = ' '\n",
    "\n",
    "for i in range(1,7):\n",
    "    with open('2sat_%i.txt' %i,'r') as f:\n",
    "        lines = f.readlines()\n",
    "\n",
    "    nv = int(lines[0])\n",
    "    Clauses = [list(map(int, c.split())) for c in lines[1:]]\n",
    "    G = [ [] for i in range(2*nv+1)]\n",
    "    for c in Clauses:\n",
    "        G[c[0]+nv].append(nv-(c[1]))\n",
    "        G[c[1]+nv].append(nv-(c[0]))\n",
    "    \n",
    "    SCCs = iterative_kosrajus_two_pass(G)\n",
    "    result = exam_SCCs(SCCs, nv)\n",
    "    \n",
    "    print(i, result)\n",
    "    results += str(int(result))"
   ]
  },
  {
   "cell_type": "code",
   "execution_count": 41,
   "metadata": {},
   "outputs": [
    {
     "data": {
      "text/plain": [
       "' 101100'"
      ]
     },
     "execution_count": 41,
     "metadata": {},
     "output_type": "execute_result"
    }
   ],
   "source": [
    "results"
   ]
  },
  {
   "cell_type": "code",
   "execution_count": null,
   "metadata": {},
   "outputs": [],
   "source": []
  }
 ],
 "metadata": {
  "kernelspec": {
   "display_name": "Python 3",
   "language": "python",
   "name": "python3"
  },
  "language_info": {
   "codemirror_mode": {
    "name": "ipython",
    "version": 3
   },
   "file_extension": ".py",
   "mimetype": "text/x-python",
   "name": "python",
   "nbconvert_exporter": "python",
   "pygments_lexer": "ipython3",
   "version": "3.6.8"
  }
 },
 "nbformat": 4,
 "nbformat_minor": 2
}
