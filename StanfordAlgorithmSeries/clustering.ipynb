{
 "cells": [
  {
   "cell_type": "code",
   "execution_count": 3,
   "metadata": {},
   "outputs": [],
   "source": [
    "import numpy as np"
   ]
  },
  {
   "cell_type": "code",
   "execution_count": 12,
   "metadata": {},
   "outputs": [],
   "source": [
    "# implement a union-find data structure\n",
    "# thru union-by-rank and path-compression\n",
    "\n",
    "class DisjointSet():\n",
    "    def __init__(self, num_of_objs):\n",
    "        \"\"\"\n",
    "            initialize the disjoint set using indexes instead of values\n",
    "        \"\"\"\n",
    "        assert isinstance(num_of_objs, int)\n",
    "        self.num_of_objs = num_of_objs\n",
    "        self.num_of_sets = num_of_objs\n",
    "        self.parents = list(range(num_of_objs))\n",
    "        self.ranks   = [0] * num_of_objs\n",
    "    \n",
    "        return\n",
    "    \n",
    "    def find(self, x):\n",
    "        \n",
    "        p = self.parents[x]\n",
    "        if(p == x): return p\n",
    "        \n",
    "        while (p != self.parents[p]):\n",
    "            p = self.parents[p]\n",
    "        \n",
    "        # path compression\n",
    "        if(p != self.parents[x]): self.parents[x] = p\n",
    "        \n",
    "        return p\n",
    "    \n",
    "    def union(self, x, y):\n",
    "        s1 = self.find(x)\n",
    "        s2 = self.find(y)\n",
    "        \n",
    "        if(s1 == s2): return\n",
    "        \n",
    "        r1 = self.ranks[s1]\n",
    "        r2 = self.ranks[s2]\n",
    "        \n",
    "        if(r1 > r2):\n",
    "            self.parents[s2] = s1\n",
    "        else:\n",
    "            self.parents[s1] = s2\n",
    "            # rank goes up when equal\n",
    "            if (r1 == r2): self.ranks[s2] +=1\n",
    "        \n",
    "        self.num_of_sets -= 1\n",
    "        \n",
    "        return"
   ]
  },
  {
   "cell_type": "markdown",
   "metadata": {},
   "source": [
    "# Q1 \n",
    "\n",
    "'cluster1.txt' describes a distance function (equivalently, a complete graph with edge costs). It has the following format:\n",
    "\n",
    "[number_of_nodes]\n",
    "\n",
    "[edge 1 node 1] [edge 1 node 2] [edge 1 cost]\n",
    "\n",
    "[edge 2 node 1] [edge 2 node 2] [edge 2 cost]\n",
    "\n",
    "...\n",
    "\n",
    "There is one edge $(i,j)$ for each choice of $1≤i<j≤n$, where $n$ is the number of nodes.\n",
    "\n",
    "For example, the third line of the file is \"1 3 5250\", indicating that the distance between nodes 1 and 3 (equivalently, the cost of the edge (1,3)) is 5250. You can assume that distances are positive, but you should NOT assume that they are distinct.\n",
    "\n",
    "Your task in this problem is to run the clustering algorithm from lecture on this data set, where the target number k of clusters is set to 4. What is the maximum spacing of a 4-clustering?\n",
    "\n",
    "ADVICE: If you're not getting the correct answer, try debugging your algorithm using some small test cases. And then post them to the discussion forum!"
   ]
  },
  {
   "cell_type": "code",
   "execution_count": 3,
   "metadata": {},
   "outputs": [],
   "source": [
    "with open('cluster1.txt', 'r') as f:\n",
    "    lines = f.readlines()\n",
    "\n",
    "n_nodes = int(lines[0])\n",
    "edges = list(map(lambda x: list(map(int, x.split())), lines[1:]))"
   ]
  },
  {
   "cell_type": "code",
   "execution_count": 4,
   "metadata": {},
   "outputs": [
    {
     "data": {
      "text/plain": [
       "124750"
      ]
     },
     "execution_count": 4,
     "metadata": {},
     "output_type": "execute_result"
    }
   ],
   "source": [
    "edges.sort(key=lambda x: x[2], reverse=True)\n",
    "len(edges)"
   ]
  },
  {
   "cell_type": "code",
   "execution_count": 5,
   "metadata": {},
   "outputs": [
    {
     "data": {
      "text/plain": [
       "123542"
      ]
     },
     "execution_count": 5,
     "metadata": {},
     "output_type": "execute_result"
    }
   ],
   "source": [
    "dj_set = DisjointSet(n_nodes)\n",
    "\n",
    "# clustering\n",
    "while (dj_set.num_of_sets != 4):\n",
    "    e = edges.pop()\n",
    "    dj_set.union(e[0]-1,e[1]-1)\n",
    "\n",
    "len(edges)"
   ]
  },
  {
   "cell_type": "code",
   "execution_count": 6,
   "metadata": {},
   "outputs": [],
   "source": [
    "# count the remaining edge length\n",
    "cluster_spacings = {}\n",
    "for e in edges:\n",
    "    c1 = dj_set.find(e[0]-1)\n",
    "    c2 = dj_set.find(e[1]-1)\n",
    "    if(c1 == c2): continue\n",
    "    \n",
    "    c12 = (min(c1,c2),max(c1,c2))\n",
    "    if(c12 in cluster_spacings.keys()):\n",
    "        if(e[2] < cluster_spacings[c12]):\n",
    "            cluster_spacings[c12] = e[2]\n",
    "    else:\n",
    "        cluster_spacings[c12] = e[2]"
   ]
  },
  {
   "cell_type": "code",
   "execution_count": 7,
   "metadata": {},
   "outputs": [
    {
     "data": {
      "text/plain": [
       "{(413, 422): 106,\n",
       " (422, 461): 107,\n",
       " (383, 422): 123,\n",
       " (383, 461): 1641,\n",
       " (383, 413): 1162,\n",
       " (413, 461): 746}"
      ]
     },
     "execution_count": 7,
     "metadata": {},
     "output_type": "execute_result"
    }
   ],
   "source": [
    "cluster_spacings"
   ]
  },
  {
   "cell_type": "markdown",
   "metadata": {},
   "source": [
    "# Q2 \n",
    "\n",
    "'cluster2.txt' has the format is:\n",
    "\n",
    "[# of nodes] [# of bits for each node's label]\n",
    "\n",
    "[first bit of node 1] ... [last bit of node 1]\n",
    "\n",
    "[first bit of node 2] ... [last bit of node 2]\n",
    "\n",
    "...\n",
    "\n",
    "For example, the third line of the file \"0 1 1 0 0 1 1 0 0 1 0 1 1 1 1 1 1 0 1 0 1 1 0 1\" denotes the 24 bits associated with node #2.\n",
    "\n",
    "The distance between two nodes $u$ and $v$ in this problem is defined as the Hamming distance--- the number of differing bits --- between the two nodes' labels. For example, the Hamming distance between the 24-bit label of node #2 above and the label \"0 1 0 0 0 1 0 0 0 1 0 1 1 1 1 1 1 0 1 0 0 1 0 1\" is 3 (since they differ in the 3rd, 7th, and 21st bits).\n",
    "\n",
    "The question is: what is the largest value of $k$ such that there is a $k$-clustering with spacing at least 3? That is, how many clusters are needed to ensure that no pair of nodes with all but 2 bits in common get split into different clusters?\n",
    "\n",
    "NOTE: The graph implicitly defined by the data file is so big that you probably can't write it out explicitly, let alone sort the edges by cost. So you will have to be a little creative to complete this part of the question. For example, is there some way you can identify the smallest distances without explicitly looking at every pair of nodes?"
   ]
  },
  {
   "cell_type": "code",
   "execution_count": 8,
   "metadata": {},
   "outputs": [],
   "source": [
    "with open('cluster2.txt', 'r') as f:\n",
    "    lines = f.readlines()\n",
    "\n",
    "n_nodes, n_bits = list(map(int, lines[0].split()))\n",
    "nodes = np.array(list(map(lambda x: list(map(int, x.split())), lines[1:])))"
   ]
  },
  {
   "cell_type": "code",
   "execution_count": 9,
   "metadata": {},
   "outputs": [
    {
     "data": {
      "text/plain": [
       "15"
      ]
     },
     "execution_count": 9,
     "metadata": {},
     "output_type": "execute_result"
    }
   ],
   "source": [
    "# hammimng_distance\n",
    "sum(nodes[0] == nodes[1])"
   ]
  },
  {
   "cell_type": "code",
   "execution_count": 10,
   "metadata": {},
   "outputs": [],
   "source": [
    "nodes = nodes[:200]\n",
    "n_nodes = len(nodes)"
   ]
  },
  {
   "cell_type": "code",
   "execution_count": 55,
   "metadata": {},
   "outputs": [
    {
     "name": "stdout",
     "output_type": "stream",
     "text": [
      "finish node 0 now,  there are 200 clusters\n",
      "finish node 1 now,  there are 200 clusters\n",
      "finish node 2 now,  there are 200 clusters\n",
      "finish node 3 now,  there are 200 clusters\n",
      "finish node 4 now,  there are 200 clusters\n",
      "finish node 5 now,  there are 200 clusters\n",
      "finish node 6 now,  there are 200 clusters\n",
      "finish node 7 now,  there are 200 clusters\n",
      "finish node 8 now,  there are 200 clusters\n",
      "finish node 9 now,  there are 200 clusters\n",
      "finish node 10 now,  there are 200 clusters\n",
      "finish node 11 now,  there are 200 clusters\n",
      "finish node 12 now,  there are 200 clusters\n",
      "finish node 13 now,  there are 200 clusters\n",
      "finish node 14 now,  there are 200 clusters\n",
      "finish node 15 now,  there are 200 clusters\n",
      "finish node 16 now,  there are 200 clusters\n",
      "finish node 17 now,  there are 200 clusters\n",
      "finish node 18 now,  there are 200 clusters\n",
      "finish node 19 now,  there are 200 clusters\n",
      "finish node 20 now,  there are 200 clusters\n",
      "finish node 21 now,  there are 200 clusters\n",
      "finish node 22 now,  there are 200 clusters\n",
      "finish node 23 now,  there are 200 clusters\n",
      "finish node 24 now,  there are 200 clusters\n",
      "finish node 25 now,  there are 200 clusters\n",
      "finish node 26 now,  there are 200 clusters\n",
      "finish node 27 now,  there are 200 clusters\n",
      "finish node 28 now,  there are 200 clusters\n",
      "finish node 29 now,  there are 200 clusters\n",
      "finish node 30 now,  there are 200 clusters\n",
      "finish node 31 now,  there are 200 clusters\n",
      "finish node 32 now,  there are 200 clusters\n",
      "finish node 33 now,  there are 200 clusters\n",
      "finish node 34 now,  there are 200 clusters\n",
      "finish node 35 now,  there are 200 clusters\n",
      "finish node 36 now,  there are 200 clusters\n",
      "finish node 37 now,  there are 200 clusters\n",
      "finish node 38 now,  there are 200 clusters\n",
      "finish node 39 now,  there are 200 clusters\n",
      "finish node 40 now,  there are 200 clusters\n",
      "finish node 41 now,  there are 200 clusters\n",
      "finish node 42 now,  there are 200 clusters\n",
      "finish node 43 now,  there are 200 clusters\n",
      "finish node 44 now,  there are 200 clusters\n",
      "finish node 45 now,  there are 200 clusters\n",
      "finish node 46 now,  there are 200 clusters\n",
      "finish node 47 now,  there are 200 clusters\n",
      "finish node 48 now,  there are 200 clusters\n",
      "finish node 49 now,  there are 200 clusters\n",
      "finish node 50 now,  there are 200 clusters\n",
      "finish node 51 now,  there are 200 clusters\n",
      "finish node 52 now,  there are 200 clusters\n",
      "finish node 53 now,  there are 200 clusters\n",
      "finish node 54 now,  there are 200 clusters\n",
      "finish node 55 now,  there are 200 clusters\n",
      "finish node 56 now,  there are 200 clusters\n",
      "finish node 57 now,  there are 200 clusters\n",
      "finish node 58 now,  there are 200 clusters\n",
      "finish node 59 now,  there are 200 clusters\n",
      "finish node 60 now,  there are 200 clusters\n",
      "finish node 61 now,  there are 200 clusters\n",
      "finish node 62 now,  there are 200 clusters\n",
      "finish node 63 now,  there are 200 clusters\n",
      "finish node 64 now,  there are 200 clusters\n",
      "finish node 65 now,  there are 200 clusters\n",
      "finish node 66 now,  there are 200 clusters\n",
      "finish node 67 now,  there are 200 clusters\n",
      "finish node 68 now,  there are 200 clusters\n",
      "finish node 69 now,  there are 200 clusters\n",
      "finish node 70 now,  there are 200 clusters\n",
      "finish node 71 now,  there are 200 clusters\n",
      "finish node 72 now,  there are 200 clusters\n",
      "finish node 73 now,  there are 200 clusters\n",
      "finish node 74 now,  there are 200 clusters\n",
      "finish node 75 now,  there are 200 clusters\n",
      "finish node 76 now,  there are 200 clusters\n",
      "finish node 77 now,  there are 200 clusters\n",
      "finish node 78 now,  there are 200 clusters\n",
      "finish node 79 now,  there are 200 clusters\n",
      "finish node 80 now,  there are 200 clusters\n",
      "finish node 81 now,  there are 200 clusters\n",
      "finish node 82 now,  there are 200 clusters\n",
      "finish node 83 now,  there are 200 clusters\n",
      "finish node 84 now,  there are 200 clusters\n",
      "finish node 85 now,  there are 200 clusters\n",
      "finish node 86 now,  there are 200 clusters\n",
      "finish node 87 now,  there are 200 clusters\n",
      "finish node 88 now,  there are 200 clusters\n",
      "finish node 89 now,  there are 200 clusters\n",
      "finish node 90 now,  there are 200 clusters\n",
      "finish node 91 now,  there are 200 clusters\n",
      "finish node 92 now,  there are 200 clusters\n",
      "finish node 93 now,  there are 200 clusters\n",
      "finish node 94 now,  there are 200 clusters\n",
      "finish node 95 now,  there are 200 clusters\n",
      "finish node 96 now,  there are 200 clusters\n",
      "finish node 97 now,  there are 200 clusters\n",
      "finish node 98 now,  there are 200 clusters\n",
      "finish node 99 now,  there are 200 clusters\n",
      "finish node 100 now,  there are 200 clusters\n",
      "finish node 101 now,  there are 200 clusters\n",
      "finish node 102 now,  there are 200 clusters\n",
      "finish node 103 now,  there are 200 clusters\n",
      "finish node 104 now,  there are 200 clusters\n",
      "finish node 105 now,  there are 200 clusters\n",
      "finish node 106 now,  there are 200 clusters\n",
      "finish node 107 now,  there are 200 clusters\n",
      "finish node 108 now,  there are 200 clusters\n",
      "finish node 109 now,  there are 200 clusters\n",
      "finish node 110 now,  there are 200 clusters\n",
      "finish node 111 now,  there are 200 clusters\n",
      "finish node 112 now,  there are 200 clusters\n",
      "finish node 113 now,  there are 200 clusters\n",
      "finish node 114 now,  there are 200 clusters\n",
      "finish node 115 now,  there are 200 clusters\n",
      "finish node 116 now,  there are 200 clusters\n",
      "finish node 117 now,  there are 200 clusters\n",
      "finish node 118 now,  there are 200 clusters\n",
      "finish node 119 now,  there are 200 clusters\n",
      "finish node 120 now,  there are 200 clusters\n",
      "finish node 121 now,  there are 200 clusters\n",
      "finish node 122 now,  there are 200 clusters\n",
      "finish node 123 now,  there are 200 clusters\n",
      "finish node 124 now,  there are 200 clusters\n",
      "finish node 125 now,  there are 200 clusters\n",
      "finish node 126 now,  there are 200 clusters\n",
      "finish node 127 now,  there are 200 clusters\n",
      "finish node 128 now,  there are 200 clusters\n",
      "finish node 129 now,  there are 200 clusters\n",
      "finish node 130 now,  there are 200 clusters\n",
      "finish node 131 now,  there are 200 clusters\n",
      "finish node 132 now,  there are 200 clusters\n",
      "finish node 133 now,  there are 200 clusters\n",
      "finish node 134 now,  there are 200 clusters\n",
      "finish node 135 now,  there are 200 clusters\n",
      "finish node 136 now,  there are 200 clusters\n",
      "finish node 137 now,  there are 200 clusters\n",
      "finish node 138 now,  there are 200 clusters\n",
      "finish node 139 now,  there are 200 clusters\n",
      "finish node 140 now,  there are 200 clusters\n",
      "finish node 141 now,  there are 200 clusters\n",
      "finish node 142 now,  there are 200 clusters\n",
      "finish node 143 now,  there are 200 clusters\n",
      "finish node 144 now,  there are 200 clusters\n",
      "finish node 145 now,  there are 200 clusters\n",
      "finish node 146 now,  there are 200 clusters\n",
      "finish node 147 now,  there are 200 clusters\n",
      "finish node 148 now,  there are 200 clusters\n",
      "finish node 149 now,  there are 200 clusters\n",
      "finish node 150 now,  there are 200 clusters\n",
      "finish node 151 now,  there are 200 clusters\n",
      "finish node 152 now,  there are 200 clusters\n",
      "finish node 153 now,  there are 200 clusters\n",
      "finish node 154 now,  there are 200 clusters\n",
      "finish node 155 now,  there are 200 clusters\n",
      "finish node 156 now,  there are 200 clusters\n",
      "finish node 157 now,  there are 200 clusters\n",
      "finish node 158 now,  there are 200 clusters\n",
      "finish node 159 now,  there are 200 clusters\n",
      "finish node 160 now,  there are 200 clusters\n",
      "finish node 161 now,  there are 200 clusters\n",
      "finish node 162 now,  there are 200 clusters\n",
      "finish node 163 now,  there are 200 clusters\n",
      "finish node 164 now,  there are 200 clusters\n",
      "finish node 165 now,  there are 200 clusters\n",
      "finish node 166 now,  there are 200 clusters\n",
      "finish node 167 now,  there are 200 clusters\n",
      "finish node 168 now,  there are 200 clusters\n",
      "finish node 169 now,  there are 200 clusters\n",
      "finish node 170 now,  there are 200 clusters\n",
      "finish node 171 now,  there are 200 clusters\n",
      "finish node 172 now,  there are 200 clusters\n",
      "finish node 173 now,  there are 200 clusters\n",
      "finish node 174 now,  there are 200 clusters\n",
      "finish node 175 now,  there are 200 clusters\n",
      "finish node 176 now,  there are 200 clusters\n",
      "finish node 177 now,  there are 200 clusters\n",
      "finish node 178 now,  there are 200 clusters\n",
      "finish node 179 now,  there are 200 clusters\n",
      "finish node 180 now,  there are 200 clusters\n",
      "finish node 181 now,  there are 200 clusters\n",
      "finish node 182 now,  there are 200 clusters\n",
      "finish node 183 now,  there are 200 clusters\n",
      "finish node 184 now,  there are 200 clusters\n",
      "finish node 185 now,  there are 200 clusters\n",
      "finish node 186 now,  there are 200 clusters\n",
      "finish node 187 now,  there are 200 clusters\n",
      "finish node 188 now,  there are 200 clusters\n",
      "finish node 189 now,  there are 200 clusters\n",
      "finish node 190 now,  there are 200 clusters\n",
      "finish node 191 now,  there are 200 clusters\n",
      "finish node 192 now,  there are 200 clusters\n",
      "finish node 193 now,  there are 200 clusters\n",
      "finish node 194 now,  there are 200 clusters\n",
      "finish node 195 now,  there are 200 clusters\n",
      "finish node 196 now,  there are 200 clusters\n",
      "finish node 197 now,  there are 200 clusters\n",
      "finish node 198 now,  there are 200 clusters\n",
      "finish node 199 now,  there are 200 clusters\n",
      "finished!\n"
     ]
    }
   ],
   "source": [
    "dj_set = DisjointSet(n_nodes)\n",
    "\n",
    "for i in range(n_nodes):\n",
    "    for j in range(i+1, n_nodes):\n",
    "        ci = dj_set.find(i)\n",
    "        cj = dj_set.find(j)\n",
    "        if (ci != cj):\n",
    "            # hammimng_distance \n",
    "            if(sum(nodes[i] == nodes[j]) < 3):\n",
    "                dj_set.union(i,j)\n",
    "    \n",
    "    print('finish node %i now,  there are %i clusters' %(i,dj_set.num_of_sets))\n",
    "\n",
    "print('finished!')"
   ]
  },
  {
   "cell_type": "code",
   "execution_count": 125,
   "metadata": {},
   "outputs": [
    {
     "data": {
      "text/plain": [
       "100"
      ]
     },
     "execution_count": 125,
     "metadata": {},
     "output_type": "execute_result"
    }
   ],
   "source": [
    "dj_set.num_of_sets"
   ]
  },
  {
   "cell_type": "markdown",
   "metadata": {},
   "source": [
    "### dealing with large data set using bitwise operator\n",
    "\n",
    "\n"
   ]
  },
  {
   "cell_type": "code",
   "execution_count": 4,
   "metadata": {},
   "outputs": [],
   "source": [
    "from timeit import default_timer as timer"
   ]
  },
  {
   "cell_type": "code",
   "execution_count": 212,
   "metadata": {},
   "outputs": [],
   "source": [
    "def hammimng_distance(x, y, nbits):\n",
    "    result = x ^ y\n",
    "    return (sum([(result >> i) & 1 for i in range(nbits)]))"
   ]
  },
  {
   "cell_type": "code",
   "execution_count": 197,
   "metadata": {},
   "outputs": [
    {
     "name": "stdout",
     "output_type": "stream",
     "text": [
      "[1, 1, 0, 1]\n"
     ]
    },
    {
     "data": {
      "text/plain": [
       "3"
      ]
     },
     "execution_count": 197,
     "metadata": {},
     "output_type": "execute_result"
    }
   ],
   "source": [
    "x = 0b0101\n",
    "y = 0b1110\n",
    "nbits = 4\n",
    "hammimng_distance(x,y,nbits)"
   ]
  },
  {
   "cell_type": "code",
   "execution_count": 198,
   "metadata": {},
   "outputs": [],
   "source": [
    "def hammimng_distance_array(x, y):\n",
    "    return sum(x == y)"
   ]
  },
  {
   "cell_type": "code",
   "execution_count": 199,
   "metadata": {},
   "outputs": [
    {
     "data": {
      "text/plain": [
       "0.00012661900836974382"
      ]
     },
     "execution_count": 199,
     "metadata": {},
     "output_type": "execute_result"
    }
   ],
   "source": [
    "x = np.array([1,1,1,1,1,1,1,1,1,1,0,0,0,1,0,1,0,1,0,1])\n",
    "y = np.array([1,1,1,1,1,1,1,1,1,1,1,1,1,0,1,0,0,1,1,0])\n",
    "start = timer()\n",
    "a = hammimng_distance_array(x,y)\n",
    "end = timer()\n",
    "end - start"
   ]
  },
  {
   "cell_type": "code",
   "execution_count": 200,
   "metadata": {},
   "outputs": [
    {
     "name": "stdout",
     "output_type": "stream",
     "text": [
      "[1, 1, 0, 0, 1, 1, 1]\n"
     ]
    },
    {
     "data": {
      "text/plain": [
       "0.00038758100708946586"
      ]
     },
     "execution_count": 200,
     "metadata": {},
     "output_type": "execute_result"
    }
   ],
   "source": [
    "x = 0b11111111110001010101\n",
    "y = 0b11111111111110100110\n",
    "nbits = 7\n",
    "start = timer()\n",
    "a = hammimng_distance(x,y,nbits)\n",
    "end = timer()\n",
    "end - start"
   ]
  },
  {
   "cell_type": "code",
   "execution_count": 206,
   "metadata": {},
   "outputs": [],
   "source": [
    "with open('cluster2.txt', 'r') as f:\n",
    "    lines = f.readlines()\n",
    "\n",
    "n_nodes, n_bits = list(map(int, lines[0].split()))\n",
    "nodes = np.array(list(map(lambda x: list(map(int, x.split())), lines[1:])))"
   ]
  },
  {
   "cell_type": "code",
   "execution_count": 208,
   "metadata": {},
   "outputs": [],
   "source": [
    "nodes = nodes[:200]\n",
    "n_nodes = len(nodes)"
   ]
  },
  {
   "cell_type": "code",
   "execution_count": 209,
   "metadata": {},
   "outputs": [
    {
     "data": {
      "text/plain": [
       "1.1032967650098726"
      ]
     },
     "execution_count": 209,
     "metadata": {},
     "output_type": "execute_result"
    }
   ],
   "source": [
    "# test 1\n",
    "start = timer()\n",
    "dj_set = DisjointSet(n_nodes)\n",
    "\n",
    "for i in range(n_nodes):\n",
    "    for j in range(i+1, n_nodes):\n",
    "        ci = dj_set.find(i)\n",
    "        cj = dj_set.find(j)\n",
    "        if (ci != cj):\n",
    "            # hammimng_distance \n",
    "            if(hammimng_distance_array(nodes[i],nodes[j]) < 3):\n",
    "                dj_set.union(i,j)\n",
    "    \n",
    "    #print('finish node %i now,  there are %i clusters' %(i,dj_set.num_of_sets))\n",
    "\n",
    "#print('finished!')\n",
    "end = timer()\n",
    "end - start"
   ]
  },
  {
   "cell_type": "code",
   "execution_count": 223,
   "metadata": {},
   "outputs": [],
   "source": [
    "with open('cluster2.txt', 'r') as f:\n",
    "    lines = f.readlines()\n",
    "\n",
    "n_nodes, n_bits = list(map(int, lines[0].split()))\n",
    "nodes = list(map(lambda x: int(x.replace(' ', ''),2), lines[1:]))"
   ]
  },
  {
   "cell_type": "code",
   "execution_count": 224,
   "metadata": {},
   "outputs": [],
   "source": [
    "nodes = nodes[:1000]\n",
    "n_nodes = len(nodes)"
   ]
  },
  {
   "cell_type": "code",
   "execution_count": 225,
   "metadata": {},
   "outputs": [
    {
     "data": {
      "text/plain": [
       "0.44373776798602194"
      ]
     },
     "execution_count": 225,
     "metadata": {},
     "output_type": "execute_result"
    }
   ],
   "source": [
    "start = timer()\n",
    "dj_set = DisjointSet(n_nodes)\n",
    "\n",
    "for i in range(n_nodes):\n",
    "    for j in range(i+1, n_nodes):\n",
    "        ci = dj_set.find(i)\n",
    "        cj = dj_set.find(j)\n",
    "        if (ci != cj):\n",
    "            # hammimng_distance \n",
    "            if(hammimng_distance(nodes[i],nodes[j],nbits) < 3):\n",
    "                dj_set.union(i,j)\n",
    "    \n",
    "    #print('finish node %i now,  there are %i clusters' %(i,dj_set.num_of_sets))\n",
    "\n",
    "#print('finished!')\n",
    "end = timer()\n",
    "end - start"
   ]
  },
  {
   "cell_type": "code",
   "execution_count": 5,
   "metadata": {},
   "outputs": [],
   "source": [
    "with open('cluster2.txt', 'r') as f:\n",
    "    lines = f.readlines()\n",
    "\n",
    "n_nodes, n_bits = list(map(int, lines[0].split()))\n",
    "nodes = list(map(lambda x: int(x.replace(' ', ''),2), lines[1:]))\n",
    "nodes = list(set(nodes))\n",
    "n_nodes = len(nodes)"
   ]
  },
  {
   "cell_type": "code",
   "execution_count": 6,
   "metadata": {},
   "outputs": [],
   "source": [
    "# make dictionary for each nodes:\n",
    "nodes_map = {}\n",
    "for i in range(n_nodes):\n",
    "    nodes_map[nodes[i]] = i"
   ]
  },
  {
   "cell_type": "code",
   "execution_count": 7,
   "metadata": {},
   "outputs": [],
   "source": [
    "# make some bit masks\n",
    "def gen_bit_masks(n_bits, n_diff_bits, \n",
    "                 passed_bit=None,\n",
    "                 cur_bit=None,\n",
    "                 cur_start=None,\n",
    "                 cur_end=None):\n",
    "    \n",
    "    assert n_diff_bits >= 1\n",
    "    assert n_bits >= n_diff_bits\n",
    "    \n",
    "    if passed_bit is None:\n",
    "        cur_bit    = 1\n",
    "        passed_bit = 0\n",
    "        cur_start  = 0\n",
    "        cur_end    = n_bits - n_diff_bits + 1\n",
    "    \n",
    "    masks = []\n",
    "    if(cur_bit == n_diff_bits):\n",
    "        masks += [passed_bit | 1 << i for i in range(cur_start,cur_end)]\n",
    "    else:\n",
    "        for i in range(cur_start,cur_end):\n",
    "            passing_bit = passed_bit | 1 << i \n",
    "            masks += gen_bit_masks(n_bits, n_diff_bits, passed_bit=passing_bit,\n",
    "                                   cur_bit=cur_bit+1, cur_start=i+1,cur_end=cur_end+1)      \n",
    "    return masks"
   ]
  },
  {
   "cell_type": "code",
   "execution_count": 8,
   "metadata": {},
   "outputs": [],
   "source": [
    "# generate nodes masks with distance less than 3\n",
    "bit_masks = [0]\n",
    "bit_masks += gen_bit_masks(n_bits, 1)\n",
    "bit_masks += gen_bit_masks(n_bits, 2)    "
   ]
  },
  {
   "cell_type": "code",
   "execution_count": 10,
   "metadata": {},
   "outputs": [
    {
     "data": {
      "text/plain": [
       "['0b0',\n",
       " '0b1',\n",
       " '0b10',\n",
       " '0b100',\n",
       " '0b1000',\n",
       " '0b10000',\n",
       " '0b100000',\n",
       " '0b1000000',\n",
       " '0b10000000',\n",
       " '0b100000000',\n",
       " '0b1000000000',\n",
       " '0b10000000000',\n",
       " '0b100000000000',\n",
       " '0b1000000000000',\n",
       " '0b10000000000000',\n",
       " '0b100000000000000',\n",
       " '0b1000000000000000',\n",
       " '0b10000000000000000',\n",
       " '0b100000000000000000',\n",
       " '0b1000000000000000000',\n",
       " '0b10000000000000000000',\n",
       " '0b100000000000000000000',\n",
       " '0b1000000000000000000000',\n",
       " '0b10000000000000000000000',\n",
       " '0b100000000000000000000000',\n",
       " '0b11',\n",
       " '0b101',\n",
       " '0b1001',\n",
       " '0b10001',\n",
       " '0b100001',\n",
       " '0b1000001',\n",
       " '0b10000001',\n",
       " '0b100000001',\n",
       " '0b1000000001',\n",
       " '0b10000000001',\n",
       " '0b100000000001',\n",
       " '0b1000000000001',\n",
       " '0b10000000000001',\n",
       " '0b100000000000001',\n",
       " '0b1000000000000001',\n",
       " '0b10000000000000001',\n",
       " '0b100000000000000001',\n",
       " '0b1000000000000000001',\n",
       " '0b10000000000000000001',\n",
       " '0b100000000000000000001',\n",
       " '0b1000000000000000000001',\n",
       " '0b10000000000000000000001',\n",
       " '0b100000000000000000000001',\n",
       " '0b110',\n",
       " '0b1010',\n",
       " '0b10010',\n",
       " '0b100010',\n",
       " '0b1000010',\n",
       " '0b10000010',\n",
       " '0b100000010',\n",
       " '0b1000000010',\n",
       " '0b10000000010',\n",
       " '0b100000000010',\n",
       " '0b1000000000010',\n",
       " '0b10000000000010',\n",
       " '0b100000000000010',\n",
       " '0b1000000000000010',\n",
       " '0b10000000000000010',\n",
       " '0b100000000000000010',\n",
       " '0b1000000000000000010',\n",
       " '0b10000000000000000010',\n",
       " '0b100000000000000000010',\n",
       " '0b1000000000000000000010',\n",
       " '0b10000000000000000000010',\n",
       " '0b100000000000000000000010',\n",
       " '0b1100',\n",
       " '0b10100',\n",
       " '0b100100',\n",
       " '0b1000100',\n",
       " '0b10000100',\n",
       " '0b100000100',\n",
       " '0b1000000100',\n",
       " '0b10000000100',\n",
       " '0b100000000100',\n",
       " '0b1000000000100',\n",
       " '0b10000000000100',\n",
       " '0b100000000000100',\n",
       " '0b1000000000000100',\n",
       " '0b10000000000000100',\n",
       " '0b100000000000000100',\n",
       " '0b1000000000000000100',\n",
       " '0b10000000000000000100',\n",
       " '0b100000000000000000100',\n",
       " '0b1000000000000000000100',\n",
       " '0b10000000000000000000100',\n",
       " '0b100000000000000000000100',\n",
       " '0b11000',\n",
       " '0b101000',\n",
       " '0b1001000',\n",
       " '0b10001000',\n",
       " '0b100001000',\n",
       " '0b1000001000',\n",
       " '0b10000001000',\n",
       " '0b100000001000',\n",
       " '0b1000000001000',\n",
       " '0b10000000001000',\n",
       " '0b100000000001000',\n",
       " '0b1000000000001000',\n",
       " '0b10000000000001000',\n",
       " '0b100000000000001000',\n",
       " '0b1000000000000001000',\n",
       " '0b10000000000000001000',\n",
       " '0b100000000000000001000',\n",
       " '0b1000000000000000001000',\n",
       " '0b10000000000000000001000',\n",
       " '0b100000000000000000001000',\n",
       " '0b110000',\n",
       " '0b1010000',\n",
       " '0b10010000',\n",
       " '0b100010000',\n",
       " '0b1000010000',\n",
       " '0b10000010000',\n",
       " '0b100000010000',\n",
       " '0b1000000010000',\n",
       " '0b10000000010000',\n",
       " '0b100000000010000',\n",
       " '0b1000000000010000',\n",
       " '0b10000000000010000',\n",
       " '0b100000000000010000',\n",
       " '0b1000000000000010000',\n",
       " '0b10000000000000010000',\n",
       " '0b100000000000000010000',\n",
       " '0b1000000000000000010000',\n",
       " '0b10000000000000000010000',\n",
       " '0b100000000000000000010000',\n",
       " '0b1100000',\n",
       " '0b10100000',\n",
       " '0b100100000',\n",
       " '0b1000100000',\n",
       " '0b10000100000',\n",
       " '0b100000100000',\n",
       " '0b1000000100000',\n",
       " '0b10000000100000',\n",
       " '0b100000000100000',\n",
       " '0b1000000000100000',\n",
       " '0b10000000000100000',\n",
       " '0b100000000000100000',\n",
       " '0b1000000000000100000',\n",
       " '0b10000000000000100000',\n",
       " '0b100000000000000100000',\n",
       " '0b1000000000000000100000',\n",
       " '0b10000000000000000100000',\n",
       " '0b100000000000000000100000',\n",
       " '0b11000000',\n",
       " '0b101000000',\n",
       " '0b1001000000',\n",
       " '0b10001000000',\n",
       " '0b100001000000',\n",
       " '0b1000001000000',\n",
       " '0b10000001000000',\n",
       " '0b100000001000000',\n",
       " '0b1000000001000000',\n",
       " '0b10000000001000000',\n",
       " '0b100000000001000000',\n",
       " '0b1000000000001000000',\n",
       " '0b10000000000001000000',\n",
       " '0b100000000000001000000',\n",
       " '0b1000000000000001000000',\n",
       " '0b10000000000000001000000',\n",
       " '0b100000000000000001000000',\n",
       " '0b110000000',\n",
       " '0b1010000000',\n",
       " '0b10010000000',\n",
       " '0b100010000000',\n",
       " '0b1000010000000',\n",
       " '0b10000010000000',\n",
       " '0b100000010000000',\n",
       " '0b1000000010000000',\n",
       " '0b10000000010000000',\n",
       " '0b100000000010000000',\n",
       " '0b1000000000010000000',\n",
       " '0b10000000000010000000',\n",
       " '0b100000000000010000000',\n",
       " '0b1000000000000010000000',\n",
       " '0b10000000000000010000000',\n",
       " '0b100000000000000010000000',\n",
       " '0b1100000000',\n",
       " '0b10100000000',\n",
       " '0b100100000000',\n",
       " '0b1000100000000',\n",
       " '0b10000100000000',\n",
       " '0b100000100000000',\n",
       " '0b1000000100000000',\n",
       " '0b10000000100000000',\n",
       " '0b100000000100000000',\n",
       " '0b1000000000100000000',\n",
       " '0b10000000000100000000',\n",
       " '0b100000000000100000000',\n",
       " '0b1000000000000100000000',\n",
       " '0b10000000000000100000000',\n",
       " '0b100000000000000100000000',\n",
       " '0b11000000000',\n",
       " '0b101000000000',\n",
       " '0b1001000000000',\n",
       " '0b10001000000000',\n",
       " '0b100001000000000',\n",
       " '0b1000001000000000',\n",
       " '0b10000001000000000',\n",
       " '0b100000001000000000',\n",
       " '0b1000000001000000000',\n",
       " '0b10000000001000000000',\n",
       " '0b100000000001000000000',\n",
       " '0b1000000000001000000000',\n",
       " '0b10000000000001000000000',\n",
       " '0b100000000000001000000000',\n",
       " '0b110000000000',\n",
       " '0b1010000000000',\n",
       " '0b10010000000000',\n",
       " '0b100010000000000',\n",
       " '0b1000010000000000',\n",
       " '0b10000010000000000',\n",
       " '0b100000010000000000',\n",
       " '0b1000000010000000000',\n",
       " '0b10000000010000000000',\n",
       " '0b100000000010000000000',\n",
       " '0b1000000000010000000000',\n",
       " '0b10000000000010000000000',\n",
       " '0b100000000000010000000000',\n",
       " '0b1100000000000',\n",
       " '0b10100000000000',\n",
       " '0b100100000000000',\n",
       " '0b1000100000000000',\n",
       " '0b10000100000000000',\n",
       " '0b100000100000000000',\n",
       " '0b1000000100000000000',\n",
       " '0b10000000100000000000',\n",
       " '0b100000000100000000000',\n",
       " '0b1000000000100000000000',\n",
       " '0b10000000000100000000000',\n",
       " '0b100000000000100000000000',\n",
       " '0b11000000000000',\n",
       " '0b101000000000000',\n",
       " '0b1001000000000000',\n",
       " '0b10001000000000000',\n",
       " '0b100001000000000000',\n",
       " '0b1000001000000000000',\n",
       " '0b10000001000000000000',\n",
       " '0b100000001000000000000',\n",
       " '0b1000000001000000000000',\n",
       " '0b10000000001000000000000',\n",
       " '0b100000000001000000000000',\n",
       " '0b110000000000000',\n",
       " '0b1010000000000000',\n",
       " '0b10010000000000000',\n",
       " '0b100010000000000000',\n",
       " '0b1000010000000000000',\n",
       " '0b10000010000000000000',\n",
       " '0b100000010000000000000',\n",
       " '0b1000000010000000000000',\n",
       " '0b10000000010000000000000',\n",
       " '0b100000000010000000000000',\n",
       " '0b1100000000000000',\n",
       " '0b10100000000000000',\n",
       " '0b100100000000000000',\n",
       " '0b1000100000000000000',\n",
       " '0b10000100000000000000',\n",
       " '0b100000100000000000000',\n",
       " '0b1000000100000000000000',\n",
       " '0b10000000100000000000000',\n",
       " '0b100000000100000000000000',\n",
       " '0b11000000000000000',\n",
       " '0b101000000000000000',\n",
       " '0b1001000000000000000',\n",
       " '0b10001000000000000000',\n",
       " '0b100001000000000000000',\n",
       " '0b1000001000000000000000',\n",
       " '0b10000001000000000000000',\n",
       " '0b100000001000000000000000',\n",
       " '0b110000000000000000',\n",
       " '0b1010000000000000000',\n",
       " '0b10010000000000000000',\n",
       " '0b100010000000000000000',\n",
       " '0b1000010000000000000000',\n",
       " '0b10000010000000000000000',\n",
       " '0b100000010000000000000000',\n",
       " '0b1100000000000000000',\n",
       " '0b10100000000000000000',\n",
       " '0b100100000000000000000',\n",
       " '0b1000100000000000000000',\n",
       " '0b10000100000000000000000',\n",
       " '0b100000100000000000000000',\n",
       " '0b11000000000000000000',\n",
       " '0b101000000000000000000',\n",
       " '0b1001000000000000000000',\n",
       " '0b10001000000000000000000',\n",
       " '0b100001000000000000000000',\n",
       " '0b110000000000000000000',\n",
       " '0b1010000000000000000000',\n",
       " '0b10010000000000000000000',\n",
       " '0b100010000000000000000000',\n",
       " '0b1100000000000000000000',\n",
       " '0b10100000000000000000000',\n",
       " '0b100100000000000000000000',\n",
       " '0b11000000000000000000000',\n",
       " '0b101000000000000000000000',\n",
       " '0b110000000000000000000000']"
      ]
     },
     "execution_count": 10,
     "metadata": {},
     "output_type": "execute_result"
    }
   ],
   "source": [
    "[bin(i) for i in bit_masks]"
   ]
  },
  {
   "cell_type": "code",
   "execution_count": 13,
   "metadata": {},
   "outputs": [
    {
     "data": {
      "text/plain": [
       "16.638952145993244"
      ]
     },
     "execution_count": 13,
     "metadata": {},
     "output_type": "execute_result"
    }
   ],
   "source": [
    "# looking for connections between each pair of nodes\n",
    "start = timer()\n",
    "dj_set = DisjointSet(n_nodes)\n",
    "nj = len(bit_masks)\n",
    "\n",
    "for i in range(n_nodes):\n",
    "    target_nodes = [ nodes[i] ^ mask for mask in bit_masks]\n",
    "    for nodes_j in target_nodes:\n",
    "        if nodes_j in nodes_map.keys():\n",
    "            dj_set.union(i,nodes_map[nodes_j])\n",
    "\n",
    "end = timer()\n",
    "end - start"
   ]
  },
  {
   "cell_type": "code",
   "execution_count": 239,
   "metadata": {},
   "outputs": [
    {
     "data": {
      "text/plain": [
       "6118"
      ]
     },
     "execution_count": 239,
     "metadata": {},
     "output_type": "execute_result"
    }
   ],
   "source": [
    "dj_set.num_of_sets"
   ]
  },
  {
   "cell_type": "code",
   "execution_count": 14,
   "metadata": {},
   "outputs": [
    {
     "data": {
      "text/plain": [
       "6118"
      ]
     },
     "execution_count": 14,
     "metadata": {},
     "output_type": "execute_result"
    }
   ],
   "source": [
    "dj_set.num_of_sets"
   ]
  },
  {
   "cell_type": "code",
   "execution_count": null,
   "metadata": {},
   "outputs": [],
   "source": []
  }
 ],
 "metadata": {
  "kernelspec": {
   "display_name": "Python 3",
   "language": "python",
   "name": "python3"
  },
  "language_info": {
   "codemirror_mode": {
    "name": "ipython",
    "version": 3
   },
   "file_extension": ".py",
   "mimetype": "text/x-python",
   "name": "python",
   "nbconvert_exporter": "python",
   "pygments_lexer": "ipython3",
   "version": "3.6.8"
  }
 },
 "nbformat": 4,
 "nbformat_minor": 2
}
