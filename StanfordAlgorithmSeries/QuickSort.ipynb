{
 "cells": [
  {
   "cell_type": "markdown",
   "metadata": {},
   "source": [
    "# Quick Sort\n",
    "\n",
    "### Problem Definition:\n",
    "* input: an array of n numbers, unsorted \n",
    "* output: an array of same numbers, sorted in increase order\n",
    "\n",
    "### Pseudo-code for  _partition_:\n",
    "\n",
    "* input: an array of n numbers, unsorted\n",
    "* output: an array of n numbers, partitioned by the chosen pivot element (usually the first one), such that all the left elements are less than pivot and all the right element are greater than pivot \n",
    "\n",
    "```\n",
    "pivot = A[0]\n",
    "\n",
    "i = 1; \n",
    "\n",
    "for j = 1 to n-1:\n",
    "    if A[j] < pivot:\n",
    "        swap(A[j], A[i])\n",
    "        i++\n",
    "swap(A[0], A[i-1])\n",
    "\n",
    "return i-1\n",
    "```"
   ]
  },
  {
   "cell_type": "code",
   "execution_count": 1,
   "metadata": {},
   "outputs": [],
   "source": [
    "def swap(A, i, j):\n",
    "    \"\"\" function to swap the element i and j in array A\"\"\"\n",
    "    tmp = A[i]\n",
    "    A[i] = A[j]\n",
    "    A[j] = tmp\n",
    "    \n",
    "    return\n",
    "\n",
    "def quickSort(A, istart=0, iend=None):\n",
    "    \"\"\" quick sort array A\"\"\"\n",
    "    if iend is None:\n",
    "        iend = len(A)\n",
    "        \n",
    "    if iend - istart <=1: return\n",
    "              \n",
    "    \n",
    "    \"\"\"partitioning\"\"\"\n",
    "    pivot = A[istart]\n",
    "    i = istart + 1;\n",
    "    for j in range(istart+1,iend):\n",
    "        if A[j] < pivot:\n",
    "            swap(A, j, i)\n",
    "            i += 1\n",
    "    \n",
    "    swap(A, istart, i-1)\n",
    "    \n",
    "    quickSort(A, istart=istart, iend=i-1)\n",
    "    quickSort(A, istart=i, iend=iend)\n",
    "     \n",
    "    return "
   ]
  },
  {
   "cell_type": "code",
   "execution_count": 71,
   "metadata": {},
   "outputs": [
    {
     "data": {
      "text/plain": [
       "[1, 2, 3, 4, 6, 28, 29, 34, 62, 76]"
      ]
     },
     "execution_count": 71,
     "metadata": {},
     "output_type": "execute_result"
    }
   ],
   "source": [
    "A = [1,2,62,3,4,28,6,34,76,29]\n",
    "quickSort(A)\n",
    "A"
   ]
  },
  {
   "cell_type": "code",
   "execution_count": 3,
   "metadata": {},
   "outputs": [],
   "source": [
    "def bubbleSort(A):\n",
    "    \"\"\" bubble sort array A\"\"\"\n",
    "    \n",
    "    if len(A) <= 1: return\n",
    "    numSwap = 1\n",
    "    while numSwap != 0:\n",
    "        numSwap = 0\n",
    "        for i in range(1,len(A)):\n",
    "            if A[i] < A[i-1]:\n",
    "                swap(A, i, i-1)\n",
    "                numSwap += 1\n",
    "\n",
    "    return"
   ]
  },
  {
   "cell_type": "code",
   "execution_count": 4,
   "metadata": {},
   "outputs": [
    {
     "data": {
      "text/plain": [
       "[1, 2, 3, 4, 6, 28, 29, 34, 62, 76]"
      ]
     },
     "execution_count": 4,
     "metadata": {},
     "output_type": "execute_result"
    }
   ],
   "source": [
    "A = [1,2,62,3,4,28,6,34,76,29]\n",
    "bubbleSort(A)\n",
    "A"
   ]
  },
  {
   "cell_type": "code",
   "execution_count": 81,
   "metadata": {},
   "outputs": [],
   "source": [
    "nums = []\n",
    "with open('./class1week2.txt','r') as f:\n",
    "    a = f.readline()\n",
    "    while(a != ''):\n",
    "        nums.append(int(a))\n",
    "        a = f.readline()"
   ]
  },
  {
   "cell_type": "code",
   "execution_count": 75,
   "metadata": {},
   "outputs": [],
   "source": [
    "from timeit import default_timer as timer\n",
    "from datetime import timedelta"
   ]
  },
  {
   "cell_type": "code",
   "execution_count": 80,
   "metadata": {},
   "outputs": [
    {
     "name": "stdout",
     "output_type": "stream",
     "text": [
      "0:00:00.000067\n"
     ]
    }
   ],
   "source": [
    "start = timer()\n",
    "quickSort(nums[:1000])\n",
    "end = timer()\n",
    "print(timedelta(seconds=end-start))"
   ]
  },
  {
   "cell_type": "code",
   "execution_count": 82,
   "metadata": {},
   "outputs": [
    {
     "name": "stdout",
     "output_type": "stream",
     "text": [
      "0:00:00.173818\n"
     ]
    }
   ],
   "source": [
    "start = timer()\n",
    "bubbleSort(nums[:1000])\n",
    "end = timer()\n",
    "print(timedelta(seconds=end-start))"
   ]
  },
  {
   "cell_type": "code",
   "execution_count": 74,
   "metadata": {},
   "outputs": [],
   "source": [
    "nums = []\n",
    "with open('./class1week3.txt','r') as f:\n",
    "    a = f.readline()\n",
    "    while(a != ''):\n",
    "        nums.append(int(a))\n",
    "        a = f.readline()"
   ]
  },
  {
   "cell_type": "code",
   "execution_count": 75,
   "metadata": {},
   "outputs": [],
   "source": [
    "def swap(A, i, j):\n",
    "    \"\"\" function to swap the element i and j in array A\"\"\"\n",
    "    tmp = A[i]\n",
    "    A[i] = A[j]\n",
    "    A[j] = tmp\n",
    "    \n",
    "    return        \n",
    "\n",
    "def find_median(A, istart, imiddle, iend):\n",
    "    \n",
    "    if A[istart] < A[imiddle]: \n",
    "        median_idx   = imiddle\n",
    "        smallest_idx = istart\n",
    "    else:\n",
    "        smallest_idx = imiddle\n",
    "        median_idx   = istart\n",
    "    \n",
    "    if A[median_idx] > A[iend]: \n",
    "        median_idx = iend\n",
    "        if A[median_idx] < A[smallest_idx]:\n",
    "             median_idx = smallest_idx\n",
    "    \n",
    "    return median_idx\n",
    "    \n",
    "def quickSort(A, istart=0, iend=None):\n",
    "    \"\"\" quick sort array A\"\"\"\n",
    "    if iend is None:\n",
    "        iend = len(A)\n",
    "        \n",
    "    if iend - istart <=1: return 0\n",
    "              \n",
    "    num_comparison = 0\n",
    "    imiddle = int((iend - 1 - istart) / 2) + istart\n",
    "    median_idx = find_median(A, istart, imiddle, iend-1)\n",
    "#     print(A)\n",
    "#     print(istart, median_idx, iend-1)\n",
    "    swap(A, istart, median_idx)\n",
    "    \"\"\"partitioning\"\"\"\n",
    "    pivot = A[istart]\n",
    "    i = istart + 1;\n",
    "    for j in range(istart+1,iend):\n",
    "        num_comparison += 1\n",
    "        if A[j] < pivot:\n",
    "            swap(A, j, i)\n",
    "            i += 1\n",
    "    \n",
    "    swap(A, istart, i-1)\n",
    "    \n",
    "    num_comparison += quickSort(A, istart=istart, iend=i-1)\n",
    "    num_comparison += quickSort(A, istart=i, iend=iend)\n",
    "     \n",
    "    return num_comparison"
   ]
  },
  {
   "cell_type": "code",
   "execution_count": 76,
   "metadata": {},
   "outputs": [
    {
     "data": {
      "text/plain": [
       "22"
      ]
     },
     "execution_count": 76,
     "metadata": {},
     "output_type": "execute_result"
    }
   ],
   "source": [
    "A = [1,2,62,3,4,28,6,34,76,29, 30]\n",
    "quickSort(A)"
   ]
  },
  {
   "cell_type": "code",
   "execution_count": 77,
   "metadata": {},
   "outputs": [
    {
     "data": {
      "text/plain": [
       "138382"
      ]
     },
     "execution_count": 77,
     "metadata": {},
     "output_type": "execute_result"
    }
   ],
   "source": [
    "quickSort(nums)"
   ]
  },
  {
   "cell_type": "code",
   "execution_count": 17,
   "metadata": {},
   "outputs": [
    {
     "data": {
      "text/plain": [
       "3"
      ]
     },
     "execution_count": 17,
     "metadata": {},
     "output_type": "execute_result"
    }
   ],
   "source": [
    "int(7/2)"
   ]
  },
  {
   "cell_type": "code",
   "execution_count": 19,
   "metadata": {},
   "outputs": [],
   "source": [
    "A = [15, 3, 4, 20]"
   ]
  },
  {
   "cell_type": "code",
   "execution_count": 24,
   "metadata": {},
   "outputs": [
    {
     "data": {
      "text/plain": [
       "2"
      ]
     },
     "execution_count": 24,
     "metadata": {},
     "output_type": "execute_result"
    }
   ],
   "source": [
    "find_median(A, 2, 1, 3)"
   ]
  },
  {
   "cell_type": "code",
   "execution_count": null,
   "metadata": {},
   "outputs": [],
   "source": [
    "159894"
   ]
  },
  {
   "cell_type": "code",
   "execution_count": null,
   "metadata": {},
   "outputs": [],
   "source": [
    "162085"
   ]
  },
  {
   "cell_type": "code",
   "execution_count": null,
   "metadata": {},
   "outputs": [],
   "source": [
    "164123"
   ]
  }
 ],
 "metadata": {
  "kernelspec": {
   "display_name": "Python 3",
   "language": "python",
   "name": "python3"
  },
  "language_info": {
   "codemirror_mode": {
    "name": "ipython",
    "version": 3
   },
   "file_extension": ".py",
   "mimetype": "text/x-python",
   "name": "python",
   "nbconvert_exporter": "python",
   "pygments_lexer": "ipython3",
   "version": "3.6.8"
  }
 },
 "nbformat": 4,
 "nbformat_minor": 2
}
