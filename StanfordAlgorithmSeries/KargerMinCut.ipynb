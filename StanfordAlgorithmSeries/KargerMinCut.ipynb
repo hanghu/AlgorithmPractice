{
 "cells": [
  {
   "cell_type": "code",
   "execution_count": 100,
   "metadata": {},
   "outputs": [],
   "source": [
    "graph = []\n",
    "with open('./kargerMinCut.txt','r') as f:\n",
    "    a = f.readline()\n",
    "    while(a!=''):\n",
    "        graph.append(list(map(int,a.split())))\n",
    "        a = f.readline()\n",
    "        "
   ]
  },
  {
   "cell_type": "code",
   "execution_count": 2,
   "metadata": {},
   "outputs": [],
   "source": [
    "import random\n",
    "import numpy as np"
   ]
  },
  {
   "cell_type": "code",
   "execution_count": 114,
   "metadata": {},
   "outputs": [],
   "source": [
    "def contract_two_nodes(graph):\n",
    "    \"\"\" assert len(graph) > 2 \"\"\"\n",
    "    i = random.randint(0,len(graph)-1)\n",
    "    j = random.randint(1,len(graph[i])-1)\n",
    "    \n",
    "    node_i = graph[i][0]\n",
    "    node_j = graph[i][j]\n",
    "#     print(graph[i])\n",
    "#     print(graph[i][j])\n",
    "    \n",
    "    num_node_j = 0\n",
    "    for a in graph[i]:\n",
    "        if a==node_j: num_node_j +=1\n",
    "            \n",
    "    for k in range(num_node_j): \n",
    "        graph[i].remove(node_j)\n",
    "    \n",
    "    for k in range(len(graph)):\n",
    "        if graph[k][0] == node_j:\n",
    "            node_j_index = k\n",
    "            graph[k].remove(node_j)\n",
    "            for a in graph[k]:\n",
    "                if a!=node_i and a!=node_j:\n",
    "                    graph[i].append(a)\n",
    "        else:\n",
    "            for l in range(1,len(graph[k])):\n",
    "                if graph[k][l] == node_j:\n",
    "                    graph[k][l] = node_i\n",
    "    \n",
    "    graph.pop(node_j_index)\n",
    "    \n",
    "#     print(node_i, node_j)   \n",
    "#     print(graph)\n",
    "    return\n",
    "\n",
    "def get_minimum_cut(graph):\n",
    "    \n",
    "    num_trial = int(len(graph))#**2*np.log(len(graph)))\n",
    "    min_cut   = len(graph) - 1\n",
    "    \n",
    "    for i in range(num_trial):\n",
    "        #random.seed(random.randint(1,len(graph)))\n",
    "        graph_copy = []\n",
    "        for node in graph:\n",
    "            graph_copy.append(node.copy())\n",
    "        \n",
    "        while len(graph_copy) > 2:\n",
    "            contract_two_nodes(graph_copy)\n",
    "            \n",
    "        trial_mim_cut = len(graph_copy[0]) - 1\n",
    "#         print(i)\n",
    "#         print(graph_copy)\n",
    "#         print(trial_mim_cut)\n",
    "        if trial_mim_cut < min_cut:\n",
    "            min_cut = trial_mim_cut\n",
    "            \n",
    "    return min_cut"
   ]
  },
  {
   "cell_type": "code",
   "execution_count": 115,
   "metadata": {},
   "outputs": [
    {
     "data": {
      "text/plain": [
       "17"
      ]
     },
     "execution_count": 115,
     "metadata": {},
     "output_type": "execute_result"
    }
   ],
   "source": [
    "get_minimum_cut(graph)"
   ]
  },
  {
   "cell_type": "code",
   "execution_count": 110,
   "metadata": {},
   "outputs": [
    {
     "data": {
      "text/plain": [
       "20"
      ]
     },
     "execution_count": 110,
     "metadata": {},
     "output_type": "execute_result"
    }
   ],
   "source": [
    "get_minimum_cut(graph)"
   ]
  },
  {
   "cell_type": "code",
   "execution_count": null,
   "metadata": {},
   "outputs": [],
   "source": []
  },
  {
   "cell_type": "code",
   "execution_count": null,
   "metadata": {},
   "outputs": [],
   "source": []
  },
  {
   "cell_type": "code",
   "execution_count": 111,
   "metadata": {},
   "outputs": [],
   "source": [
    "a = 4"
   ]
  },
  {
   "cell_type": "code",
   "execution_count": null,
   "metadata": {},
   "outputs": [],
   "source": []
  }
 ],
 "metadata": {
  "kernelspec": {
   "display_name": "Python 3",
   "language": "python",
   "name": "python3"
  },
  "language_info": {
   "codemirror_mode": {
    "name": "ipython",
    "version": 3
   },
   "file_extension": ".py",
   "mimetype": "text/x-python",
   "name": "python",
   "nbconvert_exporter": "python",
   "pygments_lexer": "ipython3",
   "version": "3.6.8"
  }
 },
 "nbformat": 4,
 "nbformat_minor": 2
}
