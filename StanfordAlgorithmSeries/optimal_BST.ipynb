{
 "cells": [
  {
   "cell_type": "code",
   "execution_count": 1,
   "metadata": {},
   "outputs": [],
   "source": [
    "import numpy as np"
   ]
  },
  {
   "cell_type": "code",
   "execution_count": 2,
   "metadata": {},
   "outputs": [],
   "source": [
    "weights = {1: 0.2, 2: 0.05, 3: 0.17, 4: 0.1,\n",
    "           5: 0.2, 6: 0.03, 7: 0.25\n",
    "}"
   ]
  },
  {
   "cell_type": "code",
   "execution_count": 3,
   "metadata": {},
   "outputs": [
    {
     "data": {
      "text/plain": [
       "[0, 0.2, 0.05, 0.17, 0.1, 0.2, 0.03, 0.25]"
      ]
     },
     "execution_count": 3,
     "metadata": {},
     "output_type": "execute_result"
    }
   ],
   "source": [
    "nitems = len(weights)\n",
    "weights = list(weights.values())\n",
    "weights = [0] + weights\n",
    "weights"
   ]
  },
  {
   "cell_type": "code",
   "execution_count": 4,
   "metadata": {},
   "outputs": [],
   "source": [
    "A = np.zeros(shape=(nitems+2,nitems+2))"
   ]
  },
  {
   "cell_type": "code",
   "execution_count": 5,
   "metadata": {},
   "outputs": [],
   "source": [
    "for s in range(nitems):\n",
    "    for i in range(1,nitems+1):\n",
    "        if i+s > nitems: continue\n",
    "\n",
    "        results = []\n",
    "        for r in range(i,i+s+1):\n",
    "            results.append(sum(weights[i:i+s+1])+A[i][r-1]+A[r+1][i+s])\n",
    "        \n",
    "        A[i][i+s] = min(results)"
   ]
  },
  {
   "cell_type": "code",
   "execution_count": 6,
   "metadata": {},
   "outputs": [
    {
     "data": {
      "text/plain": [
       "array([[0.  , 0.  , 0.  , 0.  , 0.  , 0.  , 0.  , 0.  , 0.  ],\n",
       "       [0.  , 0.2 , 0.3 , 0.69, 0.92, 1.42, 1.51, 2.23, 0.  ],\n",
       "       [0.  , 0.  , 0.05, 0.27, 0.47, 0.97, 1.05, 1.58, 0.  ],\n",
       "       [0.  , 0.  , 0.  , 0.17, 0.37, 0.84, 0.9 , 1.43, 0.  ],\n",
       "       [0.  , 0.  , 0.  , 0.  , 0.1 , 0.4 , 0.46, 0.99, 0.  ],\n",
       "       [0.  , 0.  , 0.  , 0.  , 0.  , 0.2 , 0.26, 0.74, 0.  ],\n",
       "       [0.  , 0.  , 0.  , 0.  , 0.  , 0.  , 0.03, 0.31, 0.  ],\n",
       "       [0.  , 0.  , 0.  , 0.  , 0.  , 0.  , 0.  , 0.25, 0.  ],\n",
       "       [0.  , 0.  , 0.  , 0.  , 0.  , 0.  , 0.  , 0.  , 0.  ]])"
      ]
     },
     "execution_count": 6,
     "metadata": {},
     "output_type": "execute_result"
    }
   ],
   "source": [
    "A"
   ]
  },
  {
   "cell_type": "code",
   "execution_count": null,
   "metadata": {},
   "outputs": [],
   "source": []
  }
 ],
 "metadata": {
  "kernelspec": {
   "display_name": "Python 3",
   "language": "python",
   "name": "python3"
  },
  "language_info": {
   "codemirror_mode": {
    "name": "ipython",
    "version": 3
   },
   "file_extension": ".py",
   "mimetype": "text/x-python",
   "name": "python",
   "nbconvert_exporter": "python",
   "pygments_lexer": "ipython3",
   "version": "3.6.8"
  }
 },
 "nbformat": 4,
 "nbformat_minor": 2
}
