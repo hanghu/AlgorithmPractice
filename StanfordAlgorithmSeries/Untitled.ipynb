{
 "cells": [
  {
   "cell_type": "code",
   "execution_count": 5,
   "metadata": {},
   "outputs": [],
   "source": [
    "from typing import List"
   ]
  },
  {
   "cell_type": "code",
   "execution_count": 6,
   "metadata": {},
   "outputs": [],
   "source": [
    "class TreeNode:\n",
    "    def __init__(self, x):\n",
    "        self.val = x\n",
    "        self.left = None\n",
    "        self.right = None"
   ]
  },
  {
   "cell_type": "code",
   "execution_count": 16,
   "metadata": {},
   "outputs": [],
   "source": [
    "class Solution:\n",
    "    def pathSum(self, root: TreeNode, sum: int) -> int:\n",
    "        global nums\n",
    "        nums = 0\n",
    "        sumList = self.pathSumHelper(root, sum)\n",
    "        \n",
    "        for i in sumList:\n",
    "            if i == sum: nums += 1\n",
    "        \n",
    "        return nums\n",
    "        \n",
    "    def pathSumHelper(self, node: TreeNode, sum:int) -> List[int]:\n",
    "        global nums\n",
    "        \n",
    "        sumList = [node.val]\n",
    "        \n",
    "        if node.left != None:\n",
    "            sumList += self.pathSumHelper(node.left, sum) \n",
    "        \n",
    "        if node.right != None:\n",
    "            sumList += self.pathSumHelper(node.right, sum)\n",
    "        \n",
    "        for i in sumList:\n",
    "            if i == sum: nums += 1\n",
    "        \n",
    "        print(sumList)\n",
    "        return sumList"
   ]
  },
  {
   "cell_type": "code",
   "execution_count": 17,
   "metadata": {},
   "outputs": [],
   "source": [
    "def build_tree_node(a):\n",
    "    "
   ]
  },
  {
   "cell_type": "code",
   "execution_count": 18,
   "metadata": {},
   "outputs": [
    {
     "name": "stdout",
     "output_type": "stream",
     "text": [
      "[3]\n",
      "[2]\n",
      "[5, 3, 2]\n",
      "[11]\n",
      "[-3, 11]\n",
      "[10, 5, 3, 2, -3, 11]\n"
     ]
    },
    {
     "data": {
      "text/plain": [
       "0"
      ]
     },
     "execution_count": 18,
     "metadata": {},
     "output_type": "execute_result"
    }
   ],
   "source": [
    "S = Solution()\n",
    "S.pathSum(root,8)"
   ]
  },
  {
   "cell_type": "code",
   "execution_count": 20,
   "metadata": {},
   "outputs": [],
   "source": [
    "\n",
    "from timeit import default_timer as timer"
   ]
  },
  {
   "cell_type": "code",
   "execution_count": 26,
   "metadata": {},
   "outputs": [],
   "source": [
    "A = [1]*1000000"
   ]
  },
  {
   "cell_type": "code",
   "execution_count": 31,
   "metadata": {},
   "outputs": [
    {
     "name": "stdout",
     "output_type": "stream",
     "text": [
      "0.0659624069230631\n"
     ]
    }
   ],
   "source": [
    "start = timer()\n",
    "B = [ x*3+5 for x in A]\n",
    "end = timer()\n",
    "print(end-start)"
   ]
  },
  {
   "cell_type": "code",
   "execution_count": 32,
   "metadata": {},
   "outputs": [
    {
     "name": "stdout",
     "output_type": "stream",
     "text": [
      "0.1026288450229913\n"
     ]
    }
   ],
   "source": [
    "start = timer()\n",
    "B = list(map(lambda x: x*3+5, A))\n",
    "end = timer()\n",
    "print(end-start)"
   ]
  },
  {
   "cell_type": "code",
   "execution_count": 33,
   "metadata": {},
   "outputs": [
    {
     "name": "stdout",
     "output_type": "stream",
     "text": [
      "0.10314956796355546\n"
     ]
    }
   ],
   "source": [
    "def foo(x):\n",
    "    return x*3+5\n",
    "\n",
    "start = timer()\n",
    "B = list(map(foo, A))\n",
    "end = timer()\n",
    "print(end-start)"
   ]
  },
  {
   "cell_type": "code",
   "execution_count": null,
   "metadata": {},
   "outputs": [],
   "source": []
  }
 ],
 "metadata": {
  "kernelspec": {
   "display_name": "Python 3",
   "language": "python",
   "name": "python3"
  },
  "language_info": {
   "codemirror_mode": {
    "name": "ipython",
    "version": 3
   },
   "file_extension": ".py",
   "mimetype": "text/x-python",
   "name": "python",
   "nbconvert_exporter": "python",
   "pygments_lexer": "ipython3",
   "version": "3.6.8"
  }
 },
 "nbformat": 4,
 "nbformat_minor": 2
}
