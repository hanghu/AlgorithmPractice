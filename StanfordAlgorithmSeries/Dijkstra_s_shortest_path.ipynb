{
 "cells": [
  {
   "cell_type": "code",
   "execution_count": 1,
   "metadata": {},
   "outputs": [],
   "source": [
    "import numpy as np\n",
    "import pandas as pd"
   ]
  },
  {
   "cell_type": "code",
   "execution_count": 2,
   "metadata": {},
   "outputs": [],
   "source": [
    "def read_edges(string):\n",
    "    return tuple(map(int, string.split(',')))"
   ]
  },
  {
   "cell_type": "code",
   "execution_count": 3,
   "metadata": {},
   "outputs": [],
   "source": [
    "#read edges into the graph\n",
    "#Graph is a dictionary here, with key as the number of vertice\n",
    "# and value as the list of arcs (vertice pointed to, length of the arc)\n",
    "\n",
    "G = {}\n",
    "with open('Dijkstra_s_shortest_path.txt','r') as f:\n",
    "    a = f.readline()\n",
    "    while(a != ''):\n",
    "        a = a.split('\\t')\n",
    "        G[int(a[0])]= list(map(read_edges,a[1:-1]))\n",
    "        a = f.readline()"
   ]
  },
  {
   "cell_type": "code",
   "execution_count": 12,
   "metadata": {},
   "outputs": [],
   "source": [
    "X = [1,2,3]\n",
    "Y = [1,2,3,4]"
   ]
  },
  {
   "cell_type": "code",
   "execution_count": 24,
   "metadata": {},
   "outputs": [],
   "source": [
    "#Navie implementation\n",
    "\n",
    "def Dijkstra_s_shortest_path(Graph, v_source):\n",
    "    # initialization\n",
    "    X = [v_source] #\n",
    "    A = np.zeros(len(Graph)+1,dtype=np.int)\n",
    "    bridges = list(map(lambda x: (v_source, x[0]), Graph[v_source]))\n",
    "    \n",
    "    # main loop\n",
    "    while bridges != []:\n",
    "        temp_d_score = np.inf\n",
    "        temp_edge = None\n",
    "        for edge in bridges:\n",
    "            for w in Graph[edge[0]]:\n",
    "                if w[0] == edge[1]: \n",
    "                    len_edge = w[1]\n",
    "                    break\n",
    "            \n",
    "            if A[edge[0]] + len_edge < temp_d_score:\n",
    "                temp_d_score = A[edge[0]] + len_edge\n",
    "                temp_v = edge[1]\n",
    "            \n",
    "        X.append(temp_v)\n",
    "        A[temp_v] = temp_d_score\n",
    "        \n",
    "        #update bridges:\n",
    "        for edge in bridges.copy():\n",
    "            if edge[1] == temp_v: bridges.remove(edge)\n",
    "        \n",
    "        for w in Graph[temp_v]:\n",
    "            if w[0] not in X: bridges.append((temp_v, w[0])) \n",
    "                \n",
    "    return A"
   ]
  },
  {
   "cell_type": "code",
   "execution_count": 25,
   "metadata": {},
   "outputs": [],
   "source": [
    "G2 = {1: [(2,3),(3,5),(4,10)],\n",
    "      2: [(3,1),(4,4)],\n",
    "      3: [(4,1)],\n",
    "      4: []\n",
    "     }"
   ]
  },
  {
   "cell_type": "code",
   "execution_count": 26,
   "metadata": {},
   "outputs": [],
   "source": [
    "A = Dijkstra_s_shortest_path(G2,1)"
   ]
  },
  {
   "cell_type": "code",
   "execution_count": 27,
   "metadata": {},
   "outputs": [
    {
     "data": {
      "text/plain": [
       "array([0, 0, 3, 4, 5])"
      ]
     },
     "execution_count": 27,
     "metadata": {},
     "output_type": "execute_result"
    }
   ],
   "source": [
    "A"
   ]
  },
  {
   "cell_type": "code",
   "execution_count": 129,
   "metadata": {},
   "outputs": [],
   "source": [
    "A = Dijkstra_s_shortest_path(G,1)"
   ]
  },
  {
   "cell_type": "code",
   "execution_count": 131,
   "metadata": {},
   "outputs": [
    {
     "data": {
      "text/plain": [
       "'2599,2610,2947,2052,2367,2399,2029,2442,2505,3068,'"
      ]
     },
     "execution_count": 131,
     "metadata": {},
     "output_type": "execute_result"
    }
   ],
   "source": [
    "Num = ''\n",
    "for i in (7,37,59,82,99,115,133,165,188,197):\n",
    "    Num += str(A[i]) + ','\n",
    "\n",
    "Num"
   ]
  },
  {
   "cell_type": "code",
   "execution_count": 4,
   "metadata": {},
   "outputs": [],
   "source": [
    "import heapq"
   ]
  },
  {
   "cell_type": "code",
   "execution_count": 16,
   "metadata": {},
   "outputs": [],
   "source": [
    "#heapq explore\n",
    "A = [482, 1323, 403, 212, 434, 222]\n",
    "#heapq.heapify(A)\n",
    "#heapq.heappop(A)\n",
    "#heapq.heappush(A,3)"
   ]
  },
  {
   "cell_type": "code",
   "execution_count": 30,
   "metadata": {},
   "outputs": [
    {
     "ename": "SyntaxError",
     "evalue": "invalid syntax (<ipython-input-30-97f6fe5aefa4>, line 8)",
     "output_type": "error",
     "traceback": [
      "\u001b[0;36m  File \u001b[0;32m\"<ipython-input-30-97f6fe5aefa4>\"\u001b[0;36m, line \u001b[0;32m8\u001b[0m\n\u001b[0;31m    for\u001b[0m\n\u001b[0m        ^\u001b[0m\n\u001b[0;31mSyntaxError\u001b[0m\u001b[0;31m:\u001b[0m invalid syntax\n"
     ]
    }
   ],
   "source": [
    "# Implementation using heap\n",
    "# using your own data structures\n",
    "\n",
    "def Dijkstra_using_heap(Graph, v_source):\n",
    "    # initialization\n",
    "    X = [v_source] #\n",
    "    A = np.zeros(len(Graph)+1,dtype=np.int)\n",
    "    V_heap_index = {}\n",
    "    for w, len_edge in Graph[v_source]:\n",
    "        if len_edge not in V_heap_index.keys():\n",
    "            V_heap_index[len_edge] = []\n",
    "        V_heap_index[len_edge].append(w)\n",
    "        \n",
    "    V_heap = V_heap_index.keys()\n",
    "    heapq.heapify(V_heap)\n",
    "    \n",
    "    # main loop\n",
    "    while V_heap != []:\n",
    "        winner_score = heapq.heappop(V_heap)\n",
    "        winner_index= V_heap_index[winner_score][0]\n",
    "        if len(V_heap_index[winner_score]) == 1:\n",
    "            V_heap_index.pop(winner_score)\n",
    "        else:\n",
    "            V_heap_index[winner_score].pop(winner_index)\n",
    "        \n",
    "        # update A\n",
    "        A[winner_index] = winner_score\n",
    "        X.append(winner_index)\n",
    "        \n",
    "        # update heap\n",
    "        for w, len_edge in Graph[winner_index]:\n",
    "            if w is not in X:\n",
    "                #remove element\n",
    "                V_heap.pop(len_edge)\n",
    "                heapq.heapify(V_heap)\n",
    "                if len(V_heap_index[len_edge]) == 1:\n",
    "                    V_heap_index.pop()\n",
    "                else:\n",
    "                    V_heap_index[].pop(winner_index)\n",
    "                \n",
    "                \n",
    "    return A\n",
    "\n",
    "\n"
   ]
  },
  {
   "cell_type": "code",
   "execution_count": 33,
   "metadata": {},
   "outputs": [
    {
     "name": "stdout",
     "output_type": "stream",
     "text": [
      "1\n",
      "3\n"
     ]
    }
   ],
   "source": [
    "a = [(1,2), (3,4)]\n",
    "for x,j in a:\n",
    "    print(x)"
   ]
  },
  {
   "cell_type": "code",
   "execution_count": null,
   "metadata": {},
   "outputs": [],
   "source": []
  }
 ],
 "metadata": {
  "kernelspec": {
   "display_name": "Python 3",
   "language": "python",
   "name": "python3"
  },
  "language_info": {
   "codemirror_mode": {
    "name": "ipython",
    "version": 3
   },
   "file_extension": ".py",
   "mimetype": "text/x-python",
   "name": "python",
   "nbconvert_exporter": "python",
   "pygments_lexer": "ipython3",
   "version": "3.6.8"
  }
 },
 "nbformat": 4,
 "nbformat_minor": 2
}
