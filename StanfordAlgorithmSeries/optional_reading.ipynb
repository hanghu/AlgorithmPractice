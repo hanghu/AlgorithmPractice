{
 "cells": [
  {
   "cell_type": "markdown",
   "metadata": {},
   "source": [
    "## Week 2 Optional Thoery Discussion\n",
    "\n",
    "The following problems are for those of you looking to challenge yourself beyond the required problem sets and programming questions. Most of these have been given in Stanford's CS161 course, Design and Analysis of Algorithms, at some point. They are completely optional and will not be graded. While they vary in level, many are pretty challenging, and we strongly encourage you to discuss ideas and approaches with your fellow students on the \"Theory Problems\" discussion form.\n",
    "\n",
    "1. You are given as input an unsorted array of n distinct numbers, where n is a power of 2. Give an algorithm that identifies the second-largest number in the array, and that uses at most $n + log_2 n − 2$ comparisons. \n",
    "\n",
    "2. You are a given a unimodal array of n distinct elements, meaning that its entries are in increasing order up until its maximum element, after which its elements are in decreasing order. Give an algorithm to compute the maximum element that runs in O(log n) time.\n",
    "\n",
    "3. You are given a sorted (from smallest to largest) array A of n distinct integers which can be positive, negative, or zero. You want to decide whether or not there is an index i such that ```A[i] = i```. Design the fastest algorithm that you can for solving this problem.\n",
    "\n",
    "4. You are given an n by n grid of distinct numbers. A number is a local minimum if it is smaller than all of its neighbors. (A neighbor of a number is one immediately above, below, to the left, or the right. Most numbers have four neighbors; numbers on the side have three; the four corners have two.) Use the divide-and-conquer algorithm design paradigm to compute a local minimum with only O(n) comparisons between pairs of numbers. (Note: since there are $n^2$ numbers in the input, you cannot afford to look at all of them. Hint: Think about what types of recurrences would give you the desired upper bound.)"
   ]
  },
  {
   "cell_type": "markdown",
   "metadata": {},
   "source": [
    "## Week 4 Optional Problems\n",
    "\n",
    "The following problems are for those of you looking to challenge yourself beyond the required problem sets and programming questions. Most of these have been given in Stanford's CS161 course, Design and Analysis of Algorithms, at some point. They are completely optional and will not be graded. While they vary in level, many are pretty challenging, and we strongly encourage you to discuss ideas and approaches with your fellow students on the \"Theory Problems\" discussion form.\n",
    "\n",
    "1. Prove that the worst-case expected running time of every randomized comparison-based sorting algorithm is $\\Omega (nlogn)$. (Here the worst-case is over inputs, and the expectation is over the random coin flips made by the algorithm.)\n",
    "\n",
    "2. Suppose we modify the deterministic linear-time selection algorithm by grouping the elements into groups of 7, rather than groups of 5. (Use the \"median-of-medians\" as the pivot, as before.) Does the algorithm still run in O(n)O(n) time? What if we use groups of 3?\n",
    "\n",
    "3. Given an array of n distinct (but unsorted) elements $x_1,x_2,\\ldots,x_n$ with positive weights $w_1,w_2,\\ldots,w_n$ such that $\\sum_{i=1}^n w_i = W$, a weighted median is an element $x_k$ for which the total weight of all elements with value less than $x_k$ (i.e., $\\sum_{x_i<x_k} w_i $) is at most $W/2$ and also the total weight of elements with value larger than $x_k$ (i.e., $\\sum_{x_i>x_k} w_i$) is at most $W/2$. Observe that there are at most two weighted medians. Show how to compute all weighted medians in O(n) worst-case time.\n",
    "\n",
    "4. We showed in an optional video lecture that every undirected graph has only polynomially (in the number nn of vertices) different minimum cuts. Is this also true for directed graphs? Prove it or give a counterexample.\n",
    "\n",
    "5. For a parameter $\\alpha \\ge 1$, an $\\alpha$-minimum cut is one for which the number of crossing edges is at most \\alphaα times that of a minimum cut. How many $\\alpha$-minimum cuts can an undirected graph have, as a function of $\\alpha$ and the number nn of vertices? Prove the best upper bound that you can."
   ]
  },
  {
   "cell_type": "code",
   "execution_count": null,
   "metadata": {},
   "outputs": [],
   "source": []
  }
 ],
 "metadata": {
  "kernelspec": {
   "display_name": "Python 3",
   "language": "python",
   "name": "python3"
  },
  "language_info": {
   "codemirror_mode": {
    "name": "ipython",
    "version": 3
   },
   "file_extension": ".py",
   "mimetype": "text/x-python",
   "name": "python",
   "nbconvert_exporter": "python",
   "pygments_lexer": "ipython3",
   "version": "3.6.8"
  }
 },
 "nbformat": 4,
 "nbformat_minor": 2
}
