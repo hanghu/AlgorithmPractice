{
 "cells": [
  {
   "cell_type": "code",
   "execution_count": 252,
   "metadata": {},
   "outputs": [],
   "source": [
    "import numpy as np\n",
    "import heapq"
   ]
  },
  {
   "cell_type": "markdown",
   "metadata": {},
   "source": [
    "# Q1\n",
    "\n",
    "This 'jobs_greedy_algorithm.txt' file describes a set of jobs with positive and integral weights and lengths. It has the format\n",
    "\n",
    "[number_of_jobs]\n",
    "\n",
    "[job_1_weight] [job_1_length]\n",
    "\n",
    "[job_2_weight] [job_2_length]\n",
    "\n",
    "...\n",
    "\n",
    "For example, the third line of the file is \"74 59\", indicating that the second job has weight 74 and length 59.\n",
    "\n",
    "You should NOT assume that edge weights or lengths are distinct.\n",
    "\n",
    "Your task in this problem is to run the greedy algorithm that schedules jobs in decreasing order of the difference (weight - length). Recall from lecture that this algorithm is not always optimal. IMPORTANT: if two jobs have equal difference (weight - length), you should schedule the job with higher weight first. Beware: if you break ties in a different way, you are likely to get the wrong answer. You should report the sum of weighted completion times of the resulting schedule --- a positive integer --- in the box below.\n",
    "\n",
    "ADVICE: If you get the wrong answer, try out some small test cases to debug your algorithm (and post your test cases to the discussion forum)."
   ]
  },
  {
   "cell_type": "code",
   "execution_count": 293,
   "metadata": {},
   "outputs": [],
   "source": [
    "with open('jobs_greedy_algorithm.txt','r') as f:\n",
    "    lines = f.readlines()\n",
    "\n",
    "jobs = list(map(lambda x: list(map(int, x.split())), lines))"
   ]
  },
  {
   "cell_type": "code",
   "execution_count": 324,
   "metadata": {},
   "outputs": [
    {
     "data": {
      "text/plain": [
       "(69119377652, 10000, 10001)"
      ]
     },
     "execution_count": 324,
     "metadata": {},
     "output_type": "execute_result"
    }
   ],
   "source": [
    "weighted_jobs = list(map(lambda x: [x[1]-x[0], x[0], x[1]], jobs[1:]))\n",
    "\n",
    "heapq.heapify(weighted_jobs)\n",
    "tie_bucket = []\n",
    "weighted_ct = 0\n",
    "ct = 0\n",
    "\n",
    "tmp_job = heapq.heappop(weighted_jobs)\n",
    "tmp_weight = tmp_job[0]\n",
    "tie_bucket.append(tmp_job)\n",
    "count = 0\n",
    "count2 = 1\n",
    "\n",
    "\n",
    "while weighted_jobs != []:\n",
    "    if weighted_jobs != []:\n",
    "        tmp_job = heapq.heappop(weighted_jobs)\n",
    "        while tmp_job[0] == tmp_weight:\n",
    "            tie_bucket.append(tmp_job)\n",
    "            count2 += 1\n",
    "            if weighted_jobs != []:\n",
    "                tmp_job = heapq.heappop(weighted_jobs)\n",
    "            else:\n",
    "                break\n",
    "        tmp_weight = tmp_job[0]\n",
    "    else:\n",
    "        tmp_job = None\n",
    "    \n",
    "    if tie_bucket != []:\n",
    "        tie_bucket2 = list(map(lambda x: [-x[1], x[2]], tie_bucket))\n",
    "        tie_bucket = []\n",
    "        heapq.heapify(tie_bucket2)\n",
    "\n",
    "        while tie_bucket2 != []:\n",
    "            tmp_job2 = heapq.heappop(tie_bucket2)\n",
    "            count += 1\n",
    "            #print(tmp_job2)\n",
    "            ct += tmp_job2[1]\n",
    "            weighted_ct += -tmp_job2[0]*ct\n",
    "    \n",
    "    if tmp_job is not None: \n",
    "        tie_bucket.append(tmp_job)\n",
    "        count2 += 1\n",
    "\n",
    "weighted_ct, count, count2"
   ]
  },
  {
   "cell_type": "markdown",
   "metadata": {},
   "source": [
    "# Q2\n",
    "\n",
    "For this problem, use the same data set as in the previous problem.\n",
    "\n",
    "Your task now is to run the greedy algorithm that schedules jobs (optimally) in decreasing order of the ratio (weight/length). In this algorithm, it does not matter how you break ties. You should report the sum of weighted completion times of the resulting schedule --- a positive integer --- in the box below."
   ]
  },
  {
   "cell_type": "code",
   "execution_count": 286,
   "metadata": {},
   "outputs": [
    {
     "data": {
      "text/plain": [
       "(67311454237, 10000, 510289)"
      ]
     },
     "execution_count": 286,
     "metadata": {},
     "output_type": "execute_result"
    }
   ],
   "source": [
    "weighted_jobs = list(map(lambda x: [-x[0]/x[1], x[0], x[1]], jobs[1:]))\n",
    "\n",
    "heapq.heapify(weighted_jobs)\n",
    "ct = 0\n",
    "weighted_ct = 0\n",
    "count = 0\n",
    "\n",
    "weighted_jobs2 = []\n",
    "\n",
    "while weighted_jobs != []:\n",
    "    \n",
    "    tmp_job = heapq.heappop(weighted_jobs)\n",
    "    count += 1\n",
    "    ct += tmp_job[2]\n",
    "    weighted_ct += tmp_job[1]*ct\n",
    "\n",
    "weighted_ct, count, ct"
   ]
  },
  {
   "cell_type": "markdown",
   "metadata": {},
   "source": [
    "# Q3 Prim's MST Algorithm\n",
    "\n",
    "This 'MST.txt' file describes an undirected graph with integer edge costs. It has the format\n",
    "\n",
    "[number_of_nodes] [number_of_edges]\n",
    "\n",
    "[one_node_of_edge_1] [other_node_of_edge_1] [edge_1_cost]\n",
    "\n",
    "[one_node_of_edge_2] [other_node_of_edge_2] [edge_2_cost]\n",
    "\n",
    "...\n",
    "\n",
    "For example, the third line of the file is \"2 3 -8874\", indicating that there is an edge connecting vertex #2 and vertex #3 that has cost -8874.\n",
    "\n",
    "You should NOT assume that edge costs are positive, nor should you assume that they are distinct.\n",
    "\n",
    "Your task is to run Prim's minimum spanning tree algorithm on this graph. You should report the overall cost of a minimum spanning tree --- an integer, which may or may not be negative --- in the box below.\n",
    "\n",
    "IMPLEMENTATION NOTES: This graph is small enough that the straightforward O(mn) time implementation of Prim's algorithm should work fine. OPTIONAL: For those of you seeking an additional challenge, try implementing a heap-based version. The simpler approach, which should already give you a healthy speed-up, is to maintain relevant edges in a heap (with keys = edge costs). The superior approach stores the unprocessed vertices in the heap, as described in lecture. Note this requires a heap that supports deletions, and you'll probably need to maintain some kind of mapping between vertices and their positions in the heap."
   ]
  },
  {
   "cell_type": "code",
   "execution_count": 206,
   "metadata": {},
   "outputs": [],
   "source": [
    "with open('MST.txt', 'r') as f:\n",
    "    lines = f.readlines()\n",
    "\n",
    "lines = list(map(lambda x: list(map(int, x.split())), lines))"
   ]
  },
  {
   "cell_type": "code",
   "execution_count": 207,
   "metadata": {},
   "outputs": [],
   "source": [
    "n, m =lines[0]\n",
    "edges = list(map(lambda x: [x[2], x[0], x[1]], lines[1:]))"
   ]
  },
  {
   "cell_type": "code",
   "execution_count": 214,
   "metadata": {},
   "outputs": [],
   "source": [
    "# naive implementaion\n",
    "\n",
    "# initialize\n",
    "V = set(range(1,n+1))\n",
    "X = set()\n",
    "T = []\n",
    "\n",
    "e_cheapest = min(edges)\n",
    "X.add(e_cheapest[1])\n",
    "X.add(e_cheapest[2])\n",
    "T.append(e_cheapest)\n",
    "\n",
    "while X != V:\n",
    "    c = np.infty\n",
    "    for e in edges:\n",
    "        if (e[1] in X) + (e[2] in X) == 1:\n",
    "            if e[0] <= c:\n",
    "                e_cheapest = e\n",
    "                c = e[0]\n",
    "        \n",
    "    X.add(e_cheapest[1])\n",
    "    X.add(e_cheapest[2])\n",
    "    T.append(e_cheapest)"
   ]
  },
  {
   "cell_type": "code",
   "execution_count": 215,
   "metadata": {},
   "outputs": [
    {
     "data": {
      "text/plain": [
       "499"
      ]
     },
     "execution_count": 215,
     "metadata": {},
     "output_type": "execute_result"
    }
   ],
   "source": [
    "len(T)"
   ]
  },
  {
   "cell_type": "code",
   "execution_count": 218,
   "metadata": {},
   "outputs": [
    {
     "data": {
      "text/plain": [
       "-3612829"
      ]
     },
     "execution_count": 218,
     "metadata": {},
     "output_type": "execute_result"
    }
   ],
   "source": [
    "total_cost = sum(list(map(lambda x: x[0], T)))\n",
    "total_cost"
   ]
  },
  {
   "cell_type": "code",
   "execution_count": 249,
   "metadata": {},
   "outputs": [],
   "source": [
    "# heap_inplementation\n",
    "\n",
    "# initialize\n",
    "G = list(map(lambda x: [], range(n+1)))\n",
    "any(map(lambda x: G[x[2]].append([x[0], x[1]]), edges))\n",
    "any(map(lambda x: G[x[1]].append([x[0], x[2]]), edges))\n",
    "\n",
    "V = set(range(1,n+1))\n",
    "X = set()\n",
    "T = []\n",
    "\n",
    "e_cheapest = min(edges)\n",
    "X.add(e_cheapest[1])\n",
    "X.add(e_cheapest[2])\n",
    "T.append(e_cheapest)\n",
    "heap_v = list(map(lambda x: [np.inf, x, x], V-X))\n",
    "\n",
    "def update_cheapest_edge(X, G,heap_v):\n",
    "    for i in range(len(heap_v)):\n",
    "        v1 = heap_v[i][1]\n",
    "        v2 = heap_v[i][2]\n",
    "        \n",
    "        if (v1 not in X) + (v2 not in X) == 1:\n",
    "            if v1 not in X:\n",
    "                v3 = v1\n",
    "            else: \n",
    "                v3 = v2\n",
    "        elif v1 == v2:\n",
    "            v3 = v1\n",
    "        \n",
    "        c = np.inf\n",
    "        v4 = 0 \n",
    "        for e in G[v3]:\n",
    "            if e[1] in X and e[0] < c:\n",
    "                v4 = e[1]\n",
    "                c  = e[0]\n",
    "        \n",
    "        if c != np.inf: \n",
    "            heap_v[i] = [c, v3, v4]\n",
    "            #print(heap_v[i])\n",
    "    \n",
    "    heapq.heapify(heap_v)\n",
    "    return        \n",
    "\n",
    "update_cheapest_edge(X, G, heap_v)\n",
    "\n",
    "#print(heap_v)\n",
    "\n",
    "while X != V:\n",
    "    e = heapq.heappop(heap_v)\n",
    "    #print(e)\n",
    "    if e[1] in X:\n",
    "        X.add(e[2])\n",
    "    elif e[2] in X:\n",
    "        X.add(e[1])\n",
    "    else:\n",
    "        print('booo')\n",
    "    \n",
    "    update_cheapest_edge(X, G, heap_v)\n",
    "    T.append(e)"
   ]
  },
  {
   "cell_type": "code",
   "execution_count": 250,
   "metadata": {},
   "outputs": [
    {
     "data": {
      "text/plain": [
       "499"
      ]
     },
     "execution_count": 250,
     "metadata": {},
     "output_type": "execute_result"
    }
   ],
   "source": [
    "len(T)"
   ]
  },
  {
   "cell_type": "code",
   "execution_count": 251,
   "metadata": {},
   "outputs": [
    {
     "data": {
      "text/plain": [
       "-3612829"
      ]
     },
     "execution_count": 251,
     "metadata": {},
     "output_type": "execute_result"
    }
   ],
   "source": [
    "total_cost = sum(list(map(lambda x: x[0], T)))\n",
    "total_cost"
   ]
  },
  {
   "cell_type": "markdown",
   "metadata": {},
   "source": [
    "The following problems are for those of you looking to challenge yourself beyond the required problem sets and programming questions. They are completely optional and will not be graded. While they vary in level, many are pretty challenging, and we strongly encourage you to discuss ideas and approaches with your fellow students on the \"Theory Problems\" discussion forum.\n",
    "\n",
    "1. Consider a connected undirected graph GG with not necessarily distinct edge costs. Consider two different minimum-cost spanning trees of G, T and $T'$. Is there necessarily a sequence of minimum-cost spanning trees $T = T_0, T_1, T_2, \\ldots, T_r = T'$ with the property that each consecutive pair $T_i,T_{i+1}$ of MSTs differ by only a single edge swap? Prove the statement or exhibit a counterexample.\n",
    "\n",
    "2. Consider the following algorithm. The input is a connected undirected graph with edge costs (distinct, if you prefer). The algorithm proceeds in iterations. If the current graph is a spanning tree, then the algorithm halts. Otherwise, it picks an arbitrary cycle of the current graph and deletes the most expensive edge on the cycle. Is this algorithm guaranteed to compute a minimum-cost spanning tree? Prove it or exhibit a counterexample.\n",
    "\n",
    "3. Consider the following algorithm. The input is a connected undirected graph with edge costs (distinct, if you prefer). The algorithm proceeds in phases. Each phase adds some edges to a tree-so-far and reduces the number of vertices in the graph (when there is only 1 vertex left, the MST is just the empty set). In a phase, we identify the cheapest edge $e_v$ incident on each vertex $v$ of the current graph. Let $F = \\{ e_v \\}$ be the collection of all such edges in the current phase. Obtain a new (smaller) graph by contracting all of the edges in FF --- so that each connected component of $F$ becomes a single vertex in the new graph --- discarding any self-loops that result. Let $T$ denote the union of all edges that ever get contracted in a phase of this algorithm. Is $T$ guaranteed to be a minimum-cost spanning tree? Prove it or exhibit a counterexample."
   ]
  },
  {
   "cell_type": "code",
   "execution_count": null,
   "metadata": {},
   "outputs": [],
   "source": []
  }
 ],
 "metadata": {
  "kernelspec": {
   "display_name": "Python 3",
   "language": "python",
   "name": "python3"
  },
  "language_info": {
   "codemirror_mode": {
    "name": "ipython",
    "version": 3
   },
   "file_extension": ".py",
   "mimetype": "text/x-python",
   "name": "python",
   "nbconvert_exporter": "python",
   "pygments_lexer": "ipython3",
   "version": "3.6.8"
  }
 },
 "nbformat": 4,
 "nbformat_minor": 2
}
