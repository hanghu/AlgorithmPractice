{
 "cells": [
  {
   "cell_type": "markdown",
   "metadata": {},
   "source": [
    "The goal of this problem is to implement the \"Median Maintenance\" algorithm (covered in the Week 3 lecture on heap applications). The text file contains a list of the integers from 1 to 10000 in unsorted order; you should treat this as a stream of numbers, arriving one by one. Letting x_ix ith denote the ith number of the file, the kth median $m_k$ is defined as the median of the numbers $x_1$,…,$x_k$ (So, if k is odd, then m_k is ((k+1)/2)th smallest number among $x_1$,…,$x_k$; if k is even, then $m_k$ is the (k/2)th smallest number among $x_1$,…,$x_k$.)"
   ]
  },
  {
   "cell_type": "markdown",
   "metadata": {},
   "source": [
    "In the box below you should type the sum of these 10000 medians, modulo 10000 (i.e., only the last 4 digits). That is, you should compute 4$(m_1+m_2+m_3+⋯+m_{10000})$ mod10000."
   ]
  },
  {
   "cell_type": "code",
   "execution_count": 2,
   "metadata": {},
   "outputs": [],
   "source": [
    "import numpy as np"
   ]
  },
  {
   "cell_type": "code",
   "execution_count": 11,
   "metadata": {},
   "outputs": [],
   "source": [
    "import heapq"
   ]
  },
  {
   "cell_type": "code",
   "execution_count": 69,
   "metadata": {},
   "outputs": [],
   "source": [
    "class median_maintenance():\n",
    "    def __init__(self):\n",
    "        self.min_heap = []\n",
    "        self.max_heap = []\n",
    "    \n",
    "    def get_new_median(self, new_num):\n",
    "        min_heap_len = len(self.min_heap)\n",
    "        max_heap_len = len(self.max_heap)\n",
    "        \n",
    "        if (min_heap_len == 0 or max_heap_len == 0):\n",
    "            if (max_heap_len != 0):\n",
    "                if (new_num < -self.max_heap[0]):\n",
    "                    self.shulff_max_heap(new_num)\n",
    "                else:\n",
    "                    heapq.heappush(self.min_heap, new_num)\n",
    "            elif (min_heap_len != 0): \n",
    "                if (new_num > self.min_heap[0]):\n",
    "                    self.shulff_min_heap(new_num)\n",
    "                else:\n",
    "                    heapq.heappush(self.max_heap,-new_num)\n",
    "                    return new_num\n",
    "            else:\n",
    "                self.max_heap.append(-new_num)\n",
    "        else:\n",
    "            if (min_heap_len > max_heap_len):\n",
    "                if (new_num > self.min_heap[0]):\n",
    "                    self.shulff_min_heap(new_num)\n",
    "                else:\n",
    "                    heapq.heappush(self.max_heap,-new_num)\n",
    "                    \n",
    "            elif (min_heap_len < max_heap_len):\n",
    "                if (new_num < -self.max_heap[0]):\n",
    "                    self.shulff_max_heap(new_num)\n",
    "                else:\n",
    "                    heapq.heappush(self.min_heap, new_num)\n",
    "            else:\n",
    "                if (new_num > self.min_heap[0]):\n",
    "                    self.shulff_min_heap(new_num)\n",
    "                else:\n",
    "                    heapq.heappush(self.max_heap,-new_num)\n",
    "                        \n",
    "        return -self.max_heap[0]\n",
    "                    \n",
    "    def shulff_min_heap(self, new_num):\n",
    "        shulff_num = heapq.heappop(self.min_heap)\n",
    "        heapq.heappush(self.min_heap,new_num)\n",
    "        heapq.heappush(self.max_heap,-shulff_num)\n",
    "        \n",
    "        return\n",
    "    \n",
    "    def shulff_max_heap(self, new_num):\n",
    "        shulff_num = -heapq.heappop(self.max_heap)\n",
    "        heapq.heappush(self.max_heap, -new_num)\n",
    "        heapq.heappush(self.min_heap, shulff_num)\n",
    "        \n",
    "        return "
   ]
  },
  {
   "cell_type": "code",
   "execution_count": 76,
   "metadata": {},
   "outputs": [],
   "source": [
    "a = median_maintenance()"
   ]
  },
  {
   "cell_type": "code",
   "execution_count": 77,
   "metadata": {},
   "outputs": [
    {
     "data": {
      "text/plain": [
       "43"
      ]
     },
     "execution_count": 77,
     "metadata": {},
     "output_type": "execute_result"
    }
   ],
   "source": [
    "a.get_new_median(43)"
   ]
  },
  {
   "cell_type": "code",
   "execution_count": 78,
   "metadata": {},
   "outputs": [
    {
     "data": {
      "text/plain": [
       "43"
      ]
     },
     "execution_count": 78,
     "metadata": {},
     "output_type": "execute_result"
    }
   ],
   "source": [
    "a.get_new_median(274)"
   ]
  },
  {
   "cell_type": "code",
   "execution_count": null,
   "metadata": {},
   "outputs": [],
   "source": []
  },
  {
   "cell_type": "code",
   "execution_count": 86,
   "metadata": {},
   "outputs": [],
   "source": [
    "a = median_maintenance()\n",
    "b = []\n",
    "for i in range(100):\n",
    "    c = random.randint(1,10000)\n",
    "    b.append(c)\n",
    "    median = a.get_new_median(c)\n",
    "    if (i>2):\n",
    "        if (min(a.min_heap) < max(a.max_heap)):\n",
    "            print(i)"
   ]
  },
  {
   "cell_type": "code",
   "execution_count": 83,
   "metadata": {},
   "outputs": [],
   "source": [
    "with open('median_maintenance.txt','r') as f:\n",
    "    line = f.readline()\n",
    "    a = median_maintenance()\n",
    "    median_sum = 0\n",
    "    while (line != ''):\n",
    "        median_sum += a.get_new_median(int(line))\n",
    "        line = f.readline()"
   ]
  },
  {
   "cell_type": "code",
   "execution_count": 63,
   "metadata": {},
   "outputs": [
    {
     "data": {
      "text/plain": [
       "41348723"
      ]
     },
     "execution_count": 63,
     "metadata": {},
     "output_type": "execute_result"
    }
   ],
   "source": [
    "median_sum"
   ]
  },
  {
   "cell_type": "code",
   "execution_count": 84,
   "metadata": {},
   "outputs": [
    {
     "data": {
      "text/plain": [
       "46831213"
      ]
     },
     "execution_count": 84,
     "metadata": {},
     "output_type": "execute_result"
    }
   ],
   "source": [
    "median_sum"
   ]
  },
  {
   "cell_type": "code",
   "execution_count": null,
   "metadata": {},
   "outputs": [],
   "source": []
  }
 ],
 "metadata": {
  "kernelspec": {
   "display_name": "Python 3",
   "language": "python",
   "name": "python3"
  },
  "language_info": {
   "codemirror_mode": {
    "name": "ipython",
    "version": 3
   },
   "file_extension": ".py",
   "mimetype": "text/x-python",
   "name": "python",
   "nbconvert_exporter": "python",
   "pygments_lexer": "ipython3",
   "version": "3.6.8"
  }
 },
 "nbformat": 4,
 "nbformat_minor": 2
}
