{
 "cells": [
  {
   "cell_type": "markdown",
   "metadata": {},
   "source": [
    "The file contains the edges of a directed graph. Vertices are labeled as positive integers from 1 to 875714. Every row indicates an edge, the vertex label in first column is the tail and the vertex label in second column is the head (recall the graph is directed, and the edges are directed from the first column vertex to the second column vertex). So for example, the 11$^{th}$ row looks liks : \"2 47646\". This just means that the vertex with label 2 has an outgoing edge to the vertex with label 47646\n",
    "\n",
    "Your task is to code up the algorithm from the video lectures for computing strongly connected components (SCCs), and to run this algorithm on the given graph.\n",
    "\n",
    "Output Format: You should output the sizes of the 5 largest SCCs in the given graph, in decreasing order of sizes, separated by commas (avoid any spaces). So if your algorithm computes the sizes of the five largest SCCs to be 500, 400, 300, 200 and 100, then your answer should be \"500,400,300,200,100\" (without the quotes). If your algorithm finds less than 5 SCCs, then write 0 for the remaining terms. Thus, if your algorithm computes only 3 SCCs whose sizes are 400, 300, and 100, then your answer should be \"400,300,100,0,0\" (without the quotes). (Note also that your answer should not have any spaces in it.)\n",
    "\n",
    "WARNING: This is the most challenging programming assignment of the course. Because of the size of the graph you may have to manage memory carefully. The best way to do this depends on your programming language and environment, and we strongly suggest that you exchange tips for doing this on the discussion forums."
   ]
  },
  {
   "cell_type": "markdown",
   "metadata": {},
   "source": [
    "# Kosraju's Two-Pass Algorithm"
   ]
  },
  {
   "cell_type": "code",
   "execution_count": 6,
   "metadata": {},
   "outputs": [],
   "source": [
    "import numpy as np\n",
    "import queue as q"
   ]
  },
  {
   "cell_type": "code",
   "execution_count": 58,
   "metadata": {},
   "outputs": [],
   "source": [
    "def read_test(filename, len_G):\n",
    "    with open(filename,'r') as f:\n",
    "        lines = f.readlines()\n",
    "    graph = np.ndarray(len_G+1,dtype=list)\n",
    "    graph = list(map(lambda x: [], graph))\n",
    "    graph_rev = list(map(lambda x: [], graph))\n",
    "    lines = list(map(lambda x: x[:-1].split(),lines))\n",
    "    \n",
    "    any(map(lambda x: graph[int(x[0])].append(int(x[1])), lines))\n",
    "    any(map(lambda x: graph_rev[int(x[1])].append(int(x[0])), lines))\n",
    "    \n",
    "    return graph, graph_rev"
   ]
  },
  {
   "cell_type": "code",
   "execution_count": 5,
   "metadata": {},
   "outputs": [],
   "source": [
    "def DFS_1st(G, i):\n",
    "    global t, f, G_visited\n",
    "    G_visited[i] = True\n",
    "    for j in G[i]:\n",
    "        if(not G_visited[j]):\n",
    "            DFS_1st(G, j)\n",
    "    t += 1\n",
    "    f[i] = t\n",
    "\n",
    "    return \n",
    "\n",
    "def DFS_2nd(G, i):\n",
    "    global G_visited\n",
    "    G_visited[i] = True\n",
    "    scc.append(i)\n",
    "    for j in G[i]:\n",
    "        if (not G_visited[j]):\n",
    "            DFS_2nd(G, j)\n",
    "    return\n",
    "        \n",
    "def kosrajus_two_pass(G, G_rev):\n",
    "    # two pass varibles\n",
    "    global t, f, f_rev, G_visited, G_visited, scc\n",
    "    t = 0 # finishing time \n",
    "    #global s = [] # current source vertex\n",
    "    s = None\n",
    "    f = np.zeros(len(G), dtype=int) # finishing time for n variables\n",
    "    \n",
    "    # 1st pass, iterate thru G_rev\n",
    "    G_visited = np.zeros(len(G_rev), dtype=bool)\n",
    "    for i in range(len(G)-1,0,-1):\n",
    "        if(not G_visited[i]):\n",
    "            DFS_1st(G_rev,i)\n",
    "    \n",
    "    f_rev = np.zeros(len(G), dtype=int)\n",
    "    for i in range(len(f)):\n",
    "        f_rev[f[i]] = i\n",
    "    # 2nd pass, iterate thru G based on f\n",
    "    SCCs = []\n",
    "    G_visited = np.zeros(len(G), dtype=bool)\n",
    "    for i in range(len(G)-1,0,-1):\n",
    "        scc = []\n",
    "        if(not G_visited[f_rev[i]]): DFS_2nd(G,f_rev[i])\n",
    "        if(scc != []): SCCs.append(scc)\n",
    "    \n",
    "    return SCCs"
   ]
  },
  {
   "cell_type": "code",
   "execution_count": 6,
   "metadata": {},
   "outputs": [],
   "source": [
    "# test graph 1 \n",
    "graph_a  = [[],\n",
    "            [4],\n",
    "            [8],\n",
    "            [6],\n",
    "            [7],\n",
    "            [2],\n",
    "            [9],\n",
    "            [1],\n",
    "            [5,6],\n",
    "            [3,7]]\n",
    "\n",
    "graph_a_rev = list(map(lambda x: [], graph_a))\n",
    "for i in range(len(graph_a)):\n",
    "    for arc in graph_a[i]:\n",
    "        graph_a_rev[arc].append(i)\n",
    "        "
   ]
  },
  {
   "cell_type": "code",
   "execution_count": 34,
   "metadata": {},
   "outputs": [
    {
     "data": {
      "text/plain": [
       "[[7, 1, 4], [9, 3, 6], [8, 5, 2]]"
      ]
     },
     "execution_count": 34,
     "metadata": {},
     "output_type": "execute_result"
    }
   ],
   "source": [
    "kosrajus_two_pass(graph_a, graph_a_rev)"
   ]
  },
  {
   "cell_type": "code",
   "execution_count": 33,
   "metadata": {},
   "outputs": [],
   "source": [
    "# test graph 2\n",
    "graph_a2  = [[],\n",
    "            [2],\n",
    "            [6,3,4],\n",
    "            [1,4],\n",
    "            [5],\n",
    "            [4],\n",
    "            [5,7],\n",
    "            [6,8],\n",
    "            [5,7]]\n",
    "\n",
    "graph_a2_rev = list(map(lambda x: [], graph_a2))\n",
    "for i in range(len(graph_a2)):\n",
    "    for arc in graph_a2[i]:\n",
    "        graph_a2_rev[arc].append(i)"
   ]
  },
  {
   "cell_type": "code",
   "execution_count": 35,
   "metadata": {},
   "outputs": [
    {
     "data": {
      "text/plain": [
       "[[5, 4], [8, 7, 6], [2, 3, 1]]"
      ]
     },
     "execution_count": 35,
     "metadata": {},
     "output_type": "execute_result"
    }
   ],
   "source": [
    "kosrajus_two_pass(graph_a2, graph_a2_rev)"
   ]
  },
  {
   "cell_type": "code",
   "execution_count": 40,
   "metadata": {},
   "outputs": [],
   "source": [
    "# test graph 3\n",
    "graph_a3  = [[],\n",
    "            [2],\n",
    "            [3],\n",
    "            [1,4],\n",
    "            [],\n",
    "            [4],\n",
    "            [7],\n",
    "            [8],\n",
    "            [6]]\n",
    "\n",
    "graph_a3_rev = list(map(lambda x: [], graph_a3))\n",
    "for i in range(len(graph_a3)):\n",
    "    for arc in graph_a3[i]:\n",
    "        graph_a3_rev[arc].append(i)"
   ]
  },
  {
   "cell_type": "code",
   "execution_count": 41,
   "metadata": {},
   "outputs": [
    {
     "data": {
      "text/plain": [
       "[[4], [3, 1, 2], [5], [8, 6, 7]]"
      ]
     },
     "execution_count": 41,
     "metadata": {},
     "output_type": "execute_result"
    }
   ],
   "source": [
    "kosrajus_two_pass(graph_a3, graph_a3_rev)"
   ]
  },
  {
   "cell_type": "code",
   "execution_count": 42,
   "metadata": {},
   "outputs": [],
   "source": [
    "# test graph 4\n",
    "graph_a4  = [[],\n",
    "            [2],\n",
    "            [3],\n",
    "            [1,4],\n",
    "            [3,6],\n",
    "            [4],\n",
    "            [4,7],\n",
    "            [8],\n",
    "            [6]]\n",
    "\n",
    "graph_a4_rev = list(map(lambda x: [], graph_a4))\n",
    "for i in range(len(graph_a4)):\n",
    "    for arc in graph_a4[i]:\n",
    "        graph_a4_rev[arc].append(i)"
   ]
  },
  {
   "cell_type": "code",
   "execution_count": 43,
   "metadata": {},
   "outputs": [
    {
     "data": {
      "text/plain": [
       "[[8, 6, 4, 3, 1, 2, 7], [5]]"
      ]
     },
     "execution_count": 43,
     "metadata": {},
     "output_type": "execute_result"
    }
   ],
   "source": [
    "kosrajus_two_pass(graph_a4, graph_a4_rev)"
   ]
  },
  {
   "cell_type": "code",
   "execution_count": 44,
   "metadata": {},
   "outputs": [],
   "source": [
    "# test graph 5\n",
    "graph_a5  = [[],\n",
    "            [2],\n",
    "            [3,4,5],\n",
    "            [6],\n",
    "            [5,7],\n",
    "            [2,6,7],\n",
    "            [3,8],\n",
    "            [8,10],\n",
    "            [7],\n",
    "            [7],\n",
    "            [9,11],\n",
    "            [12],\n",
    "            [10]]\n",
    "\n",
    "graph_a5_rev = list(map(lambda x: [], graph_a5))\n",
    "for i in range(len(graph_a5)):\n",
    "    for arc in graph_a5[i]:\n",
    "        graph_a5_rev[arc].append(i)"
   ]
  },
  {
   "cell_type": "code",
   "execution_count": 45,
   "metadata": {},
   "outputs": [
    {
     "data": {
      "text/plain": [
       "[[12, 10, 9, 7, 8, 11], [6, 3], [4, 5, 2], [1]]"
      ]
     },
     "execution_count": 45,
     "metadata": {},
     "output_type": "execute_result"
    }
   ],
   "source": [
    "kosrajus_two_pass(graph_a5, graph_a5_rev)"
   ]
  },
  {
   "cell_type": "markdown",
   "metadata": {},
   "source": [
    "due to the recursion limit on python, need an iterative version"
   ]
  },
  {
   "cell_type": "code",
   "execution_count": 58,
   "metadata": {},
   "outputs": [],
   "source": [
    "def iterative_DFS_1st(G, i):\n",
    "    global t, f, G_visited\n",
    "    stack = q.LifoQueue()\n",
    "    G_visited[i] = True\n",
    "    stack.put(i)\n",
    "    while not stack.empty():\n",
    "        i_cur = stack.get()\n",
    "        finished = True\n",
    "        for j in G[i_cur]:\n",
    "            if (not G_visited[j]):\n",
    "                stack.put(i_cur)\n",
    "                stack.put(j)\n",
    "                G_visited[j] = True\n",
    "                finished = False\n",
    "                break\n",
    "        if(finished):\n",
    "            t += 1\n",
    "            f[i_cur] = t\n",
    "\n",
    "    return \n",
    "\n",
    "def iterative_DFS_2nd(G, i):\n",
    "    global G_visited\n",
    "    stack = q.LifoQueue()\n",
    "    G_visited[i] = True\n",
    "    scc.append(i)\n",
    "    stack.put(i)\n",
    "    \n",
    "    while not stack.empty():\n",
    "        i_cur = stack.get()\n",
    "        for j in G[i_cur]:\n",
    "            if (not G_visited[j]):\n",
    "                stack.put(i_cur)\n",
    "                stack.put(j)\n",
    "                G_visited[j] = True\n",
    "                scc.append(j)\n",
    "                break\n",
    "\n",
    "    return\n",
    "\n",
    "def iterative_kosrajus_two_pass(G, G_rev):\n",
    "    # two pass varibles\n",
    "    global t, f, f_rev, G_visited, G_visited, scc\n",
    "    t = 0 # finishing time \n",
    "    global s = [] # current source vertex\n",
    "    #s = None\n",
    "    f = np.zeros(len(G), dtype=int) # finishing time for n variables\n",
    "    \n",
    "    # 1st pass, iterate thru G_rev\n",
    "    G_visited = np.zeros(len(G_rev), dtype=bool)\n",
    "    for i in range(len(G)-1,0,-1):\n",
    "        if(not G_visited[i]):\n",
    "            \n",
    "            iterative_DFS_1st(G_rev,i)\n",
    "    \n",
    "    f_rev = np.zeros(len(G), dtype=int)\n",
    "    for i in range(len(f)):\n",
    "        f_rev[f[i]] = i\n",
    "    # 2nd pass, iterate thru G based on f\n",
    "    SCCs = []\n",
    "    G_visited = np.zeros(len(G), dtype=bool)\n",
    "    for i in range(len(G)-1,0,-1):\n",
    "        scc = []\n",
    "        if(not G_visited[f_rev[i]]): iterative_DFS_2nd(G,f_rev[i])\n",
    "        if(scc != []): SCCs.append(scc)\n",
    "    \n",
    "    return SCCs"
   ]
  },
  {
   "cell_type": "code",
   "execution_count": 59,
   "metadata": {},
   "outputs": [
    {
     "data": {
      "text/plain": [
       "[[7, 1, 4], [9, 3, 6], [8, 5, 2]]"
      ]
     },
     "execution_count": 59,
     "metadata": {},
     "output_type": "execute_result"
    }
   ],
   "source": [
    "iterative_kosrajus_two_pass(graph_a, graph_a_rev)"
   ]
  },
  {
   "cell_type": "code",
   "execution_count": 60,
   "metadata": {},
   "outputs": [
    {
     "data": {
      "text/plain": [
       "[[5, 4], [3, 1, 2], [8, 6, 7]]"
      ]
     },
     "execution_count": 60,
     "metadata": {},
     "output_type": "execute_result"
    }
   ],
   "source": [
    "iterative_kosrajus_two_pass(graph_a2, graph_a2_rev)"
   ]
  },
  {
   "cell_type": "code",
   "execution_count": 61,
   "metadata": {},
   "outputs": [
    {
     "data": {
      "text/plain": [
       "[[4], [3, 1, 2], [5], [8, 6, 7]]"
      ]
     },
     "execution_count": 61,
     "metadata": {},
     "output_type": "execute_result"
    }
   ],
   "source": [
    "iterative_kosrajus_two_pass(graph_a3, graph_a3_rev)"
   ]
  },
  {
   "cell_type": "code",
   "execution_count": 62,
   "metadata": {},
   "outputs": [
    {
     "data": {
      "text/plain": [
       "[[8, 6, 4, 3, 1, 2, 7], [5]]"
      ]
     },
     "execution_count": 62,
     "metadata": {},
     "output_type": "execute_result"
    }
   ],
   "source": [
    "iterative_kosrajus_two_pass(graph_a4, graph_a4_rev)"
   ]
  },
  {
   "cell_type": "code",
   "execution_count": 63,
   "metadata": {},
   "outputs": [
    {
     "data": {
      "text/plain": [
       "[[12, 10, 9, 7, 8, 11], [6, 3], [4, 5, 2], [1]]"
      ]
     },
     "execution_count": 63,
     "metadata": {},
     "output_type": "execute_result"
    }
   ],
   "source": [
    "iterative_kosrajus_two_pass(graph_a5, graph_a5_rev)"
   ]
  },
  {
   "cell_type": "code",
   "execution_count": null,
   "metadata": {},
   "outputs": [],
   "source": []
  }
 ],
 "metadata": {
  "kernelspec": {
   "display_name": "Python 3",
   "language": "python",
   "name": "python3"
  },
  "language_info": {
   "codemirror_mode": {
    "name": "ipython",
    "version": 3
   },
   "file_extension": ".py",
   "mimetype": "text/x-python",
   "name": "python",
   "nbconvert_exporter": "python",
   "pygments_lexer": "ipython3",
   "version": "3.6.8"
  }
 },
 "nbformat": 4,
 "nbformat_minor": 2
}
