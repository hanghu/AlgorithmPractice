{
 "cells": [
  {
   "cell_type": "markdown",
   "metadata": {},
   "source": [
    "# Find the kth largest element in an unsorted array \n",
    " Note that it is the kth largest element in the sorted order, not the kth distinct element.\n",
    "\n",
    "Example 1:\n",
    "\n",
    "Input: [3,2,1,5,6,4] and k = 2\n",
    "Output: 5\n",
    "Example 2:\n",
    "\n",
    "Input: [3,2,3,1,2,4,5,5,6] and k = 4\n",
    "Output: 4\n",
    "Note: \n",
    "You may assume k is always valid, 1 ≤ k ≤ array's length.\n",
    "\n",
    "\n",
    "Verification: https://leetcode.com/problems/kth-largest-element-in-an-array/"
   ]
  },
  {
   "cell_type": "markdown",
   "metadata": {},
   "source": [
    "### Solution 1: using merge sort upto kth largest element\n",
    "\n",
    "or using heap??"
   ]
  },
  {
   "cell_type": "code",
   "execution_count": 10,
   "metadata": {},
   "outputs": [],
   "source": [
    "class Solution1(object):\n",
    "    def findKthLargest(self, nums, k):\n",
    "        \"\"\"\n",
    "        :type nums: List[int]\n",
    "        :type k: int\n",
    "        :rtype: int\n",
    "        \"\"\"\n",
    "        assert k >= 1 and k <= len(nums)\n",
    "        sorted_A = self.mergeSortUptokthLargest(nums,k)\n",
    "\n",
    "        return sorted_A[-1]\n",
    "    \n",
    "    def mergeSortUptokthLargest(self, A, k):\n",
    "        \"\"\" sort integer array a using Merge Sort \"\"\"\n",
    "\n",
    "        if len(A) == 1:\n",
    "            sorted_A = A\n",
    "        else:\n",
    "            half_n = int(len(A)/2)\n",
    "            sorted_B = self.mergeSortUptokthLargest(A[:half_n],k)\n",
    "            sorted_C = self.mergeSortUptokthLargest(A[half_n:],k)\n",
    "            sorted_A = self.mergeTwoSortedArrayUptokthLargest(sorted_B,sorted_C,k)\n",
    "\n",
    "        return sorted_A\n",
    "    \n",
    "    def mergeTwoSortedArrayUptokthLargest(self, A, B, k):\n",
    "        i = 0\n",
    "        j = 0\n",
    "        C = []\n",
    "\n",
    "        if k > len(A) + len(B): k = len(A) + len(B)\n",
    "    \n",
    "        while True:\n",
    "            if A[i] < B[j]:\n",
    "                C.append(B[j])\n",
    "                j += 1\n",
    "                if j == len(B): \n",
    "                    i_end = k - len(C) + i\n",
    "                    for Ai in A[i:i_end]: C.append(Ai)\n",
    "                    break\n",
    "                if len(C) == k:\n",
    "                    break\n",
    "            else:\n",
    "                C.append(A[i])\n",
    "                i += 1\n",
    "                if i == len(A):\n",
    "                    j_end = k - len(C) + j\n",
    "                    for Bj in B[j:j_end]: C.append(Bj)\n",
    "                    break\n",
    "                if len(C) == k:\n",
    "                    break\n",
    "\n",
    "        return C"
   ]
  },
  {
   "cell_type": "markdown",
   "metadata": {},
   "source": [
    "### Solution 2: using quick sort"
   ]
  },
  {
   "cell_type": "code",
   "execution_count": 2,
   "metadata": {},
   "outputs": [],
   "source": [
    "class Solution2(object):\n",
    "    def findKthLargest(self, nums, k):\n",
    "        \"\"\"\n",
    "        :type nums: List[int]\n",
    "        :type k: int\n",
    "        :rtype: int\n",
    "        \"\"\"\n",
    "        assert k >= 1 and k <= len(nums)\n",
    "\n",
    "        pivot = self.quickSort(nums)\n",
    "#         print('k', k, nums)\n",
    "        while k != pivot + 1:\n",
    "#             print(pivot, nums)\n",
    "            if k > pivot + 1:\n",
    "                k = k - pivot - 1\n",
    "                nums = nums[pivot+1:]\n",
    "            elif k < pivot + 1:\n",
    "                nums = nums[:pivot]\n",
    "            pivot = self.quickSort(nums)\n",
    "#             print('k', k, nums)\n",
    "            \n",
    "        return nums[pivot]\n",
    "                \n",
    "    def quickSort(self, A):\n",
    "        \"\"\" \n",
    "        sort integer array and return index iSmaller,\n",
    "        all elements after iSmaller are smaller than A[pivot], \n",
    "        all elements before iSmaller are larger than A[pivot].\n",
    "        \"\"\"\n",
    "        pivot = len(A) - 1\n",
    "        iSmaller = pivot - 1\n",
    "        i = 0\n",
    "        \n",
    "        while iSmaller >= i:\n",
    "            \n",
    "            if A[i] < A[pivot]:\n",
    "                ATmp = A[i]\n",
    "                A[i] = A[iSmaller]\n",
    "                A[iSmaller] = ATmp\n",
    "                iSmaller -= 1\n",
    "            else:\n",
    "                i += 1\n",
    "        \n",
    "        \n",
    "        ATmp = A[pivot]\n",
    "        A[pivot] = A[iSmaller+1]\n",
    "        A[iSmaller+1] = ATmp\n",
    "\n",
    "        return iSmaller+1"
   ]
  },
  {
   "cell_type": "code",
   "execution_count": 6,
   "metadata": {},
   "outputs": [
    {
     "data": {
      "text/plain": [
       "3"
      ]
     },
     "execution_count": 6,
     "metadata": {},
     "output_type": "execute_result"
    }
   ],
   "source": [
    "S = Solution2()\n",
    "S.findKthLargest([3,1,2,4],2)"
   ]
  },
  {
   "cell_type": "markdown",
   "metadata": {},
   "source": [
    "### solution 3: using quick sort plus random shuffle the input"
   ]
  },
  {
   "cell_type": "code",
   "execution_count": 1,
   "metadata": {},
   "outputs": [],
   "source": [
    "import random\n",
    "\n",
    "class Solution3(object):\n",
    "    \n",
    "    def findKthLargest(self, nums, k):\n",
    "        \"\"\"\n",
    "        :type nums: List[int]\n",
    "        :type k: int\n",
    "        :rtype: int\n",
    "        \"\"\"\n",
    "        assert k >= 1 and k <= len(nums)\n",
    "        \n",
    "        random.shuffle(nums)\n",
    "        pivot = self.quickSort(nums)\n",
    "#         print('k', k, nums)\n",
    "        while k != pivot + 1:\n",
    "#             print(pivot, nums)\n",
    "            \n",
    "            if k > pivot + 1:\n",
    "                k = k - pivot - 1\n",
    "                nums = nums[pivot+1:]\n",
    "            elif k < pivot + 1:\n",
    "                nums = nums[:pivot]\n",
    "            pivot = self.quickSort(nums)\n",
    "#             print('k', k, nums)\n",
    "            \n",
    "        return nums[pivot]\n",
    "                \n",
    "    def quickSort(self, A):\n",
    "        \"\"\" \n",
    "        sort integer array and return index iSmaller,\n",
    "        all elements after iSmaller are smaller than A[pivot], \n",
    "        all elements before iSmaller are larger than A[pivot].\n",
    "        \"\"\"\n",
    "        pivot = len(A) - 1\n",
    "        iSmaller = pivot - 1\n",
    "        i = 0\n",
    "        \n",
    "        while iSmaller >= i:\n",
    "            \n",
    "            if A[i] < A[pivot]:\n",
    "                ATmp = A[i]\n",
    "                A[i] = A[iSmaller]\n",
    "                A[iSmaller] = ATmp\n",
    "                iSmaller -= 1\n",
    "            else:\n",
    "                i += 1\n",
    "        \n",
    "        \n",
    "        ATmp = A[pivot]\n",
    "        A[pivot] = A[iSmaller+1]\n",
    "        A[iSmaller+1] = ATmp\n",
    "\n",
    "        return iSmaller+1\n",
    "    "
   ]
  },
  {
   "cell_type": "code",
   "execution_count": null,
   "metadata": {},
   "outputs": [],
   "source": []
  },
  {
   "cell_type": "code",
   "execution_count": null,
   "metadata": {},
   "outputs": [],
   "source": []
  }
 ],
 "metadata": {
  "kernelspec": {
   "display_name": "Python 3",
   "language": "python",
   "name": "python3"
  },
  "language_info": {
   "codemirror_mode": {
    "name": "ipython",
    "version": 3
   },
   "file_extension": ".py",
   "mimetype": "text/x-python",
   "name": "python",
   "nbconvert_exporter": "python",
   "pygments_lexer": "ipython3",
   "version": "3.6.8"
  }
 },
 "nbformat": 4,
 "nbformat_minor": 2
}
