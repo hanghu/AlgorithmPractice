{
 "cells": [
  {
   "cell_type": "markdown",
   "metadata": {},
   "source": [
    "# Merge Sort\n",
    "\n",
    "### Problem Definition:\n",
    "* input: an array of n numbers, unsorted \n",
    "* output:  an array of same numbers, sorted in increase order\n",
    "\n",
    "### Pseudo-code for  _merge_:\n",
    "\n",
    "* input sorted array A and B with length of n/2\n",
    "* output array C with length of n\n",
    "\n",
    "```\n",
    "i = 1; j = 1;\n",
    "\n",
    "for k = 1 to n:\n",
    "    if A[i] < B[j]:\n",
    "        C[k] = A[i];\n",
    "        i++\n",
    "    else (A[i] > B[j]):\n",
    "        c[k] = B[k]\n",
    "        j++\n",
    "```\n"
   ]
  },
  {
   "cell_type": "code",
   "execution_count": 51,
   "metadata": {},
   "outputs": [],
   "source": [
    "def MergeTwoSortedArray(A,B):\n",
    "    i = 0\n",
    "    j = 0\n",
    "    C = []\n",
    "    \n",
    "    while(True):\n",
    "        if A[i] < B[j]:\n",
    "            C.append(A[i])\n",
    "            i += 1\n",
    "            if i == len(A): \n",
    "                for Bj in B[j:]: C.append(Bj)\n",
    "                break\n",
    "        else:\n",
    "            C.append(B[j])\n",
    "            j += 1\n",
    "            if j == len(B):\n",
    "                for Ai in A[i:]: C.append(Ai)\n",
    "                break\n",
    "        \n",
    "    return C"
   ]
  },
  {
   "cell_type": "code",
   "execution_count": 53,
   "metadata": {},
   "outputs": [
    {
     "data": {
      "text/plain": [
       "[1, 2, 4, 4, 5, 6, 7, 9]"
      ]
     },
     "execution_count": 53,
     "metadata": {},
     "output_type": "execute_result"
    }
   ],
   "source": [
    "MergeTwoSortedArray([1,4,6,9], [2,4,5,7])"
   ]
  },
  {
   "cell_type": "code",
   "execution_count": 60,
   "metadata": {},
   "outputs": [],
   "source": [
    "def MergeSort(A):\n",
    "    \"\"\" sort integer array a using Merge Sort \"\"\"\n",
    "    \n",
    "    if len(A) == 1:\n",
    "        sorted_A = A\n",
    "    elif len(A) == 2:\n",
    "        sorted_A = MergeTwoSortedArray([A[0]], [A[1]])\n",
    "    else:\n",
    "        half_n = int(len(A)/2)\n",
    "        sorted_B = MergeSort(A[:half_n])\n",
    "        sorted_C = MergeSort(A[half_n:])\n",
    "        sorted_A = MergeTwoSortedArray(sorted_B, sorted_C)\n",
    "        \n",
    "    return sorted_A"
   ]
  },
  {
   "cell_type": "code",
   "execution_count": 62,
   "metadata": {},
   "outputs": [
    {
     "data": {
      "text/plain": [
       "[1, 2, 3, 4, 6, 28, 34, 62]"
      ]
     },
     "execution_count": 62,
     "metadata": {},
     "output_type": "execute_result"
    }
   ],
   "source": [
    "MergeSort([1,2,62,3,4,28,6,34])"
   ]
  },
  {
   "cell_type": "code",
   "execution_count": null,
   "metadata": {},
   "outputs": [],
   "source": []
  },
  {
   "cell_type": "code",
   "execution_count": null,
   "metadata": {},
   "outputs": [],
   "source": []
  }
 ],
 "metadata": {
  "kernelspec": {
   "display_name": "Python 3",
   "language": "python",
   "name": "python3"
  },
  "language_info": {
   "codemirror_mode": {
    "name": "ipython",
    "version": 3
   },
   "file_extension": ".py",
   "mimetype": "text/x-python",
   "name": "python",
   "nbconvert_exporter": "python",
   "pygments_lexer": "ipython3",
   "version": "3.6.8"
  }
 },
 "nbformat": 4,
 "nbformat_minor": 2
}
