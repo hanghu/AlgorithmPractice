{
 "cells": [
  {
   "cell_type": "markdown",
   "metadata": {},
   "source": [
    "# Karatsuba Multiplication\n",
    "\n",
    "Integer x and y has n digits. when n is even:\n",
    "\n",
    "$x = 10^\\frac{n}{2} \\cdot a + b $\n",
    "\n",
    "$y = 10^\\frac{n}{2} \\cdot c + d $\n",
    "\n",
    "$x \\cdot y = 10^n \\cdot ac + 10^\\frac{n}{2} \\cdot (ad + bc) + bd $\n",
    "\n",
    "where $(ad + bc) = (a + b) \\cdot (c + d) - ac - bd$\n",
    "\n"
   ]
  },
  {
   "cell_type": "code",
   "execution_count": 1,
   "metadata": {},
   "outputs": [],
   "source": [
    "import math"
   ]
  },
  {
   "cell_type": "code",
   "execution_count": 15,
   "metadata": {},
   "outputs": [],
   "source": [
    "def KaratsubaMultiplication(x, y):\n",
    "    \"\"\"\n",
    "     x,y --- integer str\n",
    "     \n",
    "     return x*y\n",
    "    \"\"\"\n",
    "    \n",
    "    #print(x, y)\n",
    "    if(len(x) == 1 and len(y) == 1):\n",
    "        return int(x)*int(y)\n",
    "    \n",
    "    \n",
    "    if(len(x) != len(y)):\n",
    "        n = max(len(x), len(y))\n",
    "        x = '0'*(n-len(x)) + x\n",
    "        y = '0'*(n-len(y)) + y\n",
    "    else:\n",
    "        n = len(x)\n",
    "    \n",
    "    if(n%2 == 1): \n",
    "        n +=1\n",
    "        x = '0' + x\n",
    "        y = '0' + y\n",
    "    \n",
    "    half_n = math.floor(n/2)\n",
    "    a = x[:half_n]\n",
    "    b = x[half_n:]\n",
    "    c = y[:half_n]\n",
    "    d = y[half_n:]\n",
    "    \n",
    "    ac = KaratsubaMultiplication(a, c)\n",
    "    bd = KaratsubaMultiplication(b, d)\n",
    "    a_and_b = str(int(a) + int(b))\n",
    "    c_and_d = str(int(c) + int(d))\n",
    "    ad_add_bc = KaratsubaMultiplication(a_and_b, c_and_d) - ac - bd\n",
    "    \n",
    "    return ac*(10**n)+ ad_add_bc*(10**half_n) + bd\n",
    "    "
   ]
  },
  {
   "cell_type": "code",
   "execution_count": 16,
   "metadata": {},
   "outputs": [
    {
     "data": {
      "text/plain": [
       "3330980"
      ]
     },
     "execution_count": 16,
     "metadata": {},
     "output_type": "execute_result"
    }
   ],
   "source": [
    "KaratsubaMultiplication('1010', '3298')"
   ]
  },
  {
   "cell_type": "code",
   "execution_count": 6,
   "metadata": {},
   "outputs": [],
   "source": [
    "def NaiveMultiplication(x, y):\n",
    "    \"\"\"\n",
    "     x,y --- integer str\n",
    "    \n",
    "     return x*y \n",
    "    \"\"\"\n",
    "    xy = 0\n",
    "    n_x = len(x)\n",
    "    n_y = len(y)\n",
    "    for i in range(len(x)):\n",
    "        for j in range(len(y)):\n",
    "            xy += int(x[i])*int(y[j])*10**(n_x + n_y - i -j - 2)\n",
    "            \n",
    "    return xy"
   ]
  },
  {
   "cell_type": "code",
   "execution_count": 25,
   "metadata": {},
   "outputs": [
    {
     "data": {
      "text/plain": [
       "3330980"
      ]
     },
     "execution_count": 25,
     "metadata": {},
     "output_type": "execute_result"
    }
   ],
   "source": [
    "NaiveMultiplication('1010', '3298')"
   ]
  },
  {
   "cell_type": "code",
   "execution_count": 12,
   "metadata": {},
   "outputs": [
    {
     "data": {
      "text/plain": [
       "3330980"
      ]
     },
     "execution_count": 12,
     "metadata": {},
     "output_type": "execute_result"
    }
   ],
   "source": [
    "1010*3298"
   ]
  },
  {
   "cell_type": "code",
   "execution_count": 13,
   "metadata": {},
   "outputs": [
    {
     "data": {
      "text/plain": [
       "8539734222673567065463550869546574495034888535765114961879601127067743044893204848617875072216249073013374895871952806582723184"
      ]
     },
     "execution_count": 13,
     "metadata": {},
     "output_type": "execute_result"
    }
   ],
   "source": [
    "a = '3141592653589793238462643383279502884197169399375105820974944592'\n",
    "b = '2718281828459045235360287471352662497757247093699959574966967627'\n",
    "KaratsubaMultiplication(a,b)"
   ]
  },
  {
   "cell_type": "code",
   "execution_count": 14,
   "metadata": {},
   "outputs": [
    {
     "data": {
      "text/plain": [
       "8539734222673567065463550869546574495034888535765114961879601127067743044893204848617875072216249073013374895871952806582723184"
      ]
     },
     "execution_count": 14,
     "metadata": {},
     "output_type": "execute_result"
    }
   ],
   "source": [
    "int(a) * int(b)"
   ]
  },
  {
   "cell_type": "code",
   "execution_count": 16,
   "metadata": {},
   "outputs": [],
   "source": [
    "from timeit import default_timer as timer\n",
    "from datetime import timedelta"
   ]
  },
  {
   "cell_type": "code",
   "execution_count": 17,
   "metadata": {},
   "outputs": [
    {
     "name": "stdout",
     "output_type": "stream",
     "text": [
      "0:00:00.005032\n"
     ]
    }
   ],
   "source": [
    "start = timer()\n",
    "KaratsubaMultiplication(a, b)\n",
    "end = timer()\n",
    "print(timedelta(seconds=end-start))"
   ]
  },
  {
   "cell_type": "code",
   "execution_count": 18,
   "metadata": {},
   "outputs": [
    {
     "name": "stdout",
     "output_type": "stream",
     "text": [
      "0:00:00.005208\n"
     ]
    }
   ],
   "source": [
    "start = timer()\n",
    "NaiveMultiplication(a, b)\n",
    "end = timer()\n",
    "print(timedelta(seconds=end-start))"
   ]
  },
  {
   "cell_type": "code",
   "execution_count": null,
   "metadata": {},
   "outputs": [],
   "source": []
  }
 ],
 "metadata": {
  "kernelspec": {
   "display_name": "Python 3",
   "language": "python",
   "name": "python3"
  },
  "language_info": {
   "codemirror_mode": {
    "name": "ipython",
    "version": 3
   },
   "file_extension": ".py",
   "mimetype": "text/x-python",
   "name": "python",
   "nbconvert_exporter": "python",
   "pygments_lexer": "ipython3",
   "version": "3.6.8"
  }
 },
 "nbformat": 4,
 "nbformat_minor": 2
}
